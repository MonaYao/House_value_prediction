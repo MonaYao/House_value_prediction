{
 "cells": [
  {
   "cell_type": "code",
   "execution_count": 2,
   "metadata": {},
   "outputs": [],
   "source": [
    "import numpy as np\n",
    "import pandas as pd\n",
    "import matplotlib.pyplot as plt\n",
    "import seaborn as sns\n",
    "from sklearn.preprocessing import StandardScaler"
   ]
  },
  {
   "cell_type": "markdown",
   "metadata": {},
   "source": [
    "# EDA"
   ]
  },
  {
   "cell_type": "code",
   "execution_count": 3,
   "metadata": {},
   "outputs": [
    {
     "data": {
      "text/html": [
       "<div>\n",
       "<style scoped>\n",
       "    .dataframe tbody tr th:only-of-type {\n",
       "        vertical-align: middle;\n",
       "    }\n",
       "\n",
       "    .dataframe tbody tr th {\n",
       "        vertical-align: top;\n",
       "    }\n",
       "\n",
       "    .dataframe thead th {\n",
       "        text-align: right;\n",
       "    }\n",
       "</style>\n",
       "<table border=\"1\" class=\"dataframe\">\n",
       "  <thead>\n",
       "    <tr style=\"text-align: right;\">\n",
       "      <th></th>\n",
       "      <th>Id</th>\n",
       "      <th>MSSubClass</th>\n",
       "      <th>MSZoning</th>\n",
       "      <th>LotFrontage</th>\n",
       "      <th>LotArea</th>\n",
       "      <th>Street</th>\n",
       "      <th>Alley</th>\n",
       "      <th>LotShape</th>\n",
       "      <th>LandContour</th>\n",
       "      <th>Utilities</th>\n",
       "      <th>...</th>\n",
       "      <th>PoolArea</th>\n",
       "      <th>PoolQC</th>\n",
       "      <th>Fence</th>\n",
       "      <th>MiscFeature</th>\n",
       "      <th>MiscVal</th>\n",
       "      <th>MoSold</th>\n",
       "      <th>YrSold</th>\n",
       "      <th>SaleType</th>\n",
       "      <th>SaleCondition</th>\n",
       "      <th>SalePrice</th>\n",
       "    </tr>\n",
       "  </thead>\n",
       "  <tbody>\n",
       "    <tr>\n",
       "      <th>0</th>\n",
       "      <td>1</td>\n",
       "      <td>60</td>\n",
       "      <td>RL</td>\n",
       "      <td>65.0</td>\n",
       "      <td>8450</td>\n",
       "      <td>Pave</td>\n",
       "      <td>NaN</td>\n",
       "      <td>Reg</td>\n",
       "      <td>Lvl</td>\n",
       "      <td>AllPub</td>\n",
       "      <td>...</td>\n",
       "      <td>0</td>\n",
       "      <td>NaN</td>\n",
       "      <td>NaN</td>\n",
       "      <td>NaN</td>\n",
       "      <td>0</td>\n",
       "      <td>2</td>\n",
       "      <td>2008</td>\n",
       "      <td>WD</td>\n",
       "      <td>Normal</td>\n",
       "      <td>208500</td>\n",
       "    </tr>\n",
       "    <tr>\n",
       "      <th>1</th>\n",
       "      <td>2</td>\n",
       "      <td>20</td>\n",
       "      <td>RL</td>\n",
       "      <td>80.0</td>\n",
       "      <td>9600</td>\n",
       "      <td>Pave</td>\n",
       "      <td>NaN</td>\n",
       "      <td>Reg</td>\n",
       "      <td>Lvl</td>\n",
       "      <td>AllPub</td>\n",
       "      <td>...</td>\n",
       "      <td>0</td>\n",
       "      <td>NaN</td>\n",
       "      <td>NaN</td>\n",
       "      <td>NaN</td>\n",
       "      <td>0</td>\n",
       "      <td>5</td>\n",
       "      <td>2007</td>\n",
       "      <td>WD</td>\n",
       "      <td>Normal</td>\n",
       "      <td>181500</td>\n",
       "    </tr>\n",
       "    <tr>\n",
       "      <th>2</th>\n",
       "      <td>3</td>\n",
       "      <td>60</td>\n",
       "      <td>RL</td>\n",
       "      <td>68.0</td>\n",
       "      <td>11250</td>\n",
       "      <td>Pave</td>\n",
       "      <td>NaN</td>\n",
       "      <td>IR1</td>\n",
       "      <td>Lvl</td>\n",
       "      <td>AllPub</td>\n",
       "      <td>...</td>\n",
       "      <td>0</td>\n",
       "      <td>NaN</td>\n",
       "      <td>NaN</td>\n",
       "      <td>NaN</td>\n",
       "      <td>0</td>\n",
       "      <td>9</td>\n",
       "      <td>2008</td>\n",
       "      <td>WD</td>\n",
       "      <td>Normal</td>\n",
       "      <td>223500</td>\n",
       "    </tr>\n",
       "    <tr>\n",
       "      <th>3</th>\n",
       "      <td>4</td>\n",
       "      <td>70</td>\n",
       "      <td>RL</td>\n",
       "      <td>60.0</td>\n",
       "      <td>9550</td>\n",
       "      <td>Pave</td>\n",
       "      <td>NaN</td>\n",
       "      <td>IR1</td>\n",
       "      <td>Lvl</td>\n",
       "      <td>AllPub</td>\n",
       "      <td>...</td>\n",
       "      <td>0</td>\n",
       "      <td>NaN</td>\n",
       "      <td>NaN</td>\n",
       "      <td>NaN</td>\n",
       "      <td>0</td>\n",
       "      <td>2</td>\n",
       "      <td>2006</td>\n",
       "      <td>WD</td>\n",
       "      <td>Abnorml</td>\n",
       "      <td>140000</td>\n",
       "    </tr>\n",
       "    <tr>\n",
       "      <th>4</th>\n",
       "      <td>5</td>\n",
       "      <td>60</td>\n",
       "      <td>RL</td>\n",
       "      <td>84.0</td>\n",
       "      <td>14260</td>\n",
       "      <td>Pave</td>\n",
       "      <td>NaN</td>\n",
       "      <td>IR1</td>\n",
       "      <td>Lvl</td>\n",
       "      <td>AllPub</td>\n",
       "      <td>...</td>\n",
       "      <td>0</td>\n",
       "      <td>NaN</td>\n",
       "      <td>NaN</td>\n",
       "      <td>NaN</td>\n",
       "      <td>0</td>\n",
       "      <td>12</td>\n",
       "      <td>2008</td>\n",
       "      <td>WD</td>\n",
       "      <td>Normal</td>\n",
       "      <td>250000</td>\n",
       "    </tr>\n",
       "  </tbody>\n",
       "</table>\n",
       "<p>5 rows × 81 columns</p>\n",
       "</div>"
      ],
      "text/plain": [
       "   Id  MSSubClass MSZoning  LotFrontage  LotArea Street Alley LotShape  \\\n",
       "0   1          60       RL         65.0     8450   Pave   NaN      Reg   \n",
       "1   2          20       RL         80.0     9600   Pave   NaN      Reg   \n",
       "2   3          60       RL         68.0    11250   Pave   NaN      IR1   \n",
       "3   4          70       RL         60.0     9550   Pave   NaN      IR1   \n",
       "4   5          60       RL         84.0    14260   Pave   NaN      IR1   \n",
       "\n",
       "  LandContour Utilities  ... PoolArea PoolQC Fence MiscFeature MiscVal MoSold  \\\n",
       "0         Lvl    AllPub  ...        0    NaN   NaN         NaN       0      2   \n",
       "1         Lvl    AllPub  ...        0    NaN   NaN         NaN       0      5   \n",
       "2         Lvl    AllPub  ...        0    NaN   NaN         NaN       0      9   \n",
       "3         Lvl    AllPub  ...        0    NaN   NaN         NaN       0      2   \n",
       "4         Lvl    AllPub  ...        0    NaN   NaN         NaN       0     12   \n",
       "\n",
       "  YrSold  SaleType  SaleCondition  SalePrice  \n",
       "0   2008        WD         Normal     208500  \n",
       "1   2007        WD         Normal     181500  \n",
       "2   2008        WD         Normal     223500  \n",
       "3   2006        WD        Abnorml     140000  \n",
       "4   2008        WD         Normal     250000  \n",
       "\n",
       "[5 rows x 81 columns]"
      ]
     },
     "execution_count": 3,
     "metadata": {},
     "output_type": "execute_result"
    }
   ],
   "source": [
    "df = pd.read_csv(\"train.csv\") \n",
    "df.head()"
   ]
  },
  {
   "cell_type": "code",
   "execution_count": 4,
   "metadata": {},
   "outputs": [
    {
     "data": {
      "image/png": "[encoded data removed]",
      "text/plain": [
       "<Figure size 432x288 with 1 Axes>"
      ]
     },
     "metadata": {
      "needs_background": "light"
     },
     "output_type": "display_data"
    }
   ],
   "source": [
    "Dist_MSZoning = sns.countplot(x=\"MSZoning\", data=df)"
   ]
  },
  {
   "cell_type": "code",
   "execution_count": 5,
   "metadata": {
    "scrolled": true
   },
   "outputs": [
    {
     "data": {
      "image/png": "[encoded data removed]",
      "text/plain": [
       "<Figure size 432x288 with 1 Axes>"
      ]
     },
     "metadata": {
      "needs_background": "light"
     },
     "output_type": "display_data"
    }
   ],
   "source": [
    "MSZoning = sns.boxplot(x=\"MSZoning\", y=\"SalePrice\", hue=\"MSZoning\", data=df)\n",
    "# keep, cut the categories from 8 to 5"
   ]
  },
  {
   "cell_type": "code",
   "execution_count": 6,
   "metadata": {
    "scrolled": true
   },
   "outputs": [
    {
     "data": {
      "image/png": "[encoded data removed]",
      "text/plain": [
       "<Figure size 432x288 with 1 Axes>"
      ]
     },
     "metadata": {
      "needs_background": "light"
     },
     "output_type": "display_data"
    }
   ],
   "source": [
    "LotFrontage = sns.regplot(x=df[\"LotFrontage\"], y=df[\"SalePrice\"])\n",
    "# may not keep, because the linear regression is not significant"
   ]
  },
  {
   "cell_type": "code",
   "execution_count": 7,
   "metadata": {},
   "outputs": [
    {
     "data": {
      "image/png": "[encoded data removed]",
      "text/plain": [
       "<Figure size 432x288 with 1 Axes>"
      ]
     },
     "metadata": {
      "needs_background": "light"
     },
     "output_type": "display_data"
    }
   ],
   "source": [
    "LotArea = sns.regplot(x=df[\"LotArea\"], y=df[\"SalePrice\"])\n",
    "# considering not keeping, because the linear regression is not significant"
   ]
  },
  {
   "cell_type": "code",
   "execution_count": 8,
   "metadata": {},
   "outputs": [
    {
     "data": {
      "image/png": "[encoded data removed]",
      "text/plain": [
       "<Figure size 432x288 with 1 Axes>"
      ]
     },
     "metadata": {
      "needs_background": "light"
     },
     "output_type": "display_data"
    }
   ],
   "source": [
    "Street = sns.boxplot(x=\"Street\", y=\"SalePrice\", hue=\"Street\", data=df)\n",
    "# keep the feature"
   ]
  },
  {
   "cell_type": "code",
   "execution_count": 9,
   "metadata": {},
   "outputs": [
    {
     "data": {
      "image/png": "[encoded data removed]",
      "text/plain": [
       "<Figure size 432x288 with 1 Axes>"
      ]
     },
     "metadata": {
      "needs_background": "light"
     },
     "output_type": "display_data"
    }
   ],
   "source": [
    "Alley = sns.boxplot(x=\"Alley\", y=\"SalePrice\", hue=\"Alley\", data=df)"
   ]
  },
  {
   "cell_type": "code",
   "execution_count": 10,
   "metadata": {},
   "outputs": [
    {
     "data": {
      "image/png": "[encoded data removed]",
      "text/plain": [
       "<Figure size 432x288 with 1 Axes>"
      ]
     },
     "metadata": {
      "needs_background": "light"
     },
     "output_type": "display_data"
    }
   ],
   "source": [
    "Dist_Alley = sns.countplot(x=\"Alley\", data=df)\n",
    "# may not keep, because too many NaN most values are NaN, or combined with Street."
   ]
  },
  {
   "cell_type": "code",
   "execution_count": 11,
   "metadata": {},
   "outputs": [
    {
     "data": {
      "image/png": "[encoded data removed]",
      "text/plain": [
       "<Figure size 432x288 with 1 Axes>"
      ]
     },
     "metadata": {
      "needs_background": "light"
     },
     "output_type": "display_data"
    }
   ],
   "source": [
    "Dist_LotShape = sns.countplot(x=\"LotShape\", data=df)"
   ]
  },
  {
   "cell_type": "code",
   "execution_count": 12,
   "metadata": {
    "scrolled": true
   },
   "outputs": [
    {
     "data": {
      "image/png": "[encoded data removed]",
      "text/plain": [
       "<Figure size 432x288 with 1 Axes>"
      ]
     },
     "metadata": {
      "needs_background": "light"
     },
     "output_type": "display_data"
    }
   ],
   "source": [
    "LotShape = sns.boxplot(x=\"LotShape\", y=\"SalePrice\", hue=\"LotShape\", data=df)\n",
    "# Convert Categorical to boolean"
   ]
  },
  {
   "cell_type": "code",
   "execution_count": 13,
   "metadata": {},
   "outputs": [
    {
     "data": {
      "image/png": "[encoded data removed]",
      "text/plain": [
       "<Figure size 432x288 with 1 Axes>"
      ]
     },
     "metadata": {
      "needs_background": "light"
     },
     "output_type": "display_data"
    }
   ],
   "source": [
    "Dist_LandContour = sns.countplot(x=\"LandContour\", data=df)\n",
    "# Convert Categorical variables to boolean"
   ]
  },
  {
   "cell_type": "code",
   "execution_count": 14,
   "metadata": {},
   "outputs": [
    {
     "data": {
      "image/png": "[encoded data removed]",
      "text/plain": [
       "<Figure size 432x288 with 1 Axes>"
      ]
     },
     "metadata": {
      "needs_background": "light"
     },
     "output_type": "display_data"
    }
   ],
   "source": [
    "Dist_Utilities = sns.countplot(x=\"Utilities\", data=df)\n",
    "# drop the feature"
   ]
  },
  {
   "cell_type": "code",
   "execution_count": 15,
   "metadata": {},
   "outputs": [
    {
     "data": {
      "image/png": "[encoded data removed]",
      "text/plain": [
       "<Figure size 432x288 with 1 Axes>"
      ]
     },
     "metadata": {
      "needs_background": "light"
     },
     "output_type": "display_data"
    }
   ],
   "source": [
    "Dist_LotConfig = sns.countplot(x=\"LotConfig\", data=df)\n",
    "# Convert categorical to boolean"
   ]
  },
  {
   "cell_type": "code",
   "execution_count": 16,
   "metadata": {},
   "outputs": [
    {
     "data": {
      "image/png": "[encoded data removed]",
      "text/plain": [
       "<Figure size 432x288 with 1 Axes>"
      ]
     },
     "metadata": {
      "needs_background": "light"
     },
     "output_type": "display_data"
    }
   ],
   "source": [
    "Dist_LandSlope = sns.countplot(x=\"LandSlope\", data=df)\n",
    "# Drop the feature?"
   ]
  },
  {
   "cell_type": "code",
   "execution_count": 17,
   "metadata": {},
   "outputs": [
    {
     "data": {
      "image/png": "[encoded data removed]",
      "text/plain": [
       "<Figure size 432x288 with 1 Axes>"
      ]
     },
     "metadata": {
      "needs_background": "light"
     },
     "output_type": "display_data"
    }
   ],
   "source": [
    "Neighborhood = sns.boxplot(x=\"Neighborhood\", y=\"SalePrice\", hue=\"Neighborhood\", data=df)\n",
    "# change the scope?"
   ]
  },
  {
   "cell_type": "code",
   "execution_count": 18,
   "metadata": {},
   "outputs": [
    {
     "data": {
      "image/png": "[encoded data removed]",
      "text/plain": [
       "<Figure size 432x288 with 1 Axes>"
      ]
     },
     "metadata": {
      "needs_background": "light"
     },
     "output_type": "display_data"
    }
   ],
   "source": [
    "Dist_Condition = sns.countplot(x=\"Condition1\", data=df)\n",
    "# convert categorical to boolean, or convert those categories into \"positive\", \"normal\", \"negative\"\n",
    "# combine condition1 and condition2"
   ]
  },
  {
   "cell_type": "code",
   "execution_count": 19,
   "metadata": {},
   "outputs": [
    {
     "data": {
      "image/png": "[encoded data removed]",
      "text/plain": [
       "<Figure size 432x288 with 1 Axes>"
      ]
     },
     "metadata": {
      "needs_background": "light"
     },
     "output_type": "display_data"
    }
   ],
   "source": [
    "Condition = sns.boxplot(x=\"Condition1\", y=\"SalePrice\", hue=\"Condition1\", data=df)"
   ]
  },
  {
   "cell_type": "code",
   "execution_count": null,
   "metadata": {},
   "outputs": [],
   "source": [
    "Dist_Condition = sns.countplot(x=\"BldgType\", data=df)\n",
    "# convert to boolean or drop the feature, because no big difference among the medians. "
   ]
  },
  {
   "cell_type": "code",
   "execution_count": null,
   "metadata": {},
   "outputs": [],
   "source": [
    "BldgType = sns.boxplot(x=\"BldgType\", y=\"SalePrice\", hue=\"BldgType\", data=df)"
   ]
  },
  {
   "cell_type": "code",
   "execution_count": null,
   "metadata": {},
   "outputs": [],
   "source": [
    "Dist_HouseStyle = sns.countplot(x=\"HouseStyle\", data=df)\n",
    "# convert to \"2 story\", \"1 story\", \"SFoyer\" \"SLvl\""
   ]
  },
  {
   "cell_type": "code",
   "execution_count": null,
   "metadata": {},
   "outputs": [],
   "source": [
    "HouseStyle = sns.boxplot(x=\"HouseStyle\", y=\"SalePrice\", hue=\"HouseStyle\", data=df)"
   ]
  },
  {
   "cell_type": "code",
   "execution_count": null,
   "metadata": {},
   "outputs": [],
   "source": [
    "OverallQual_vs_OverallCond = sns.regplot(x=df[\"OverallQual\"], y=df[\"OverallCond\"])\n",
    "# hmmm, interesting"
   ]
  },
  {
   "cell_type": "code",
   "execution_count": null,
   "metadata": {},
   "outputs": [],
   "source": [
    "OverallQual = sns.regplot(x=df[\"OverallQual\"], y=df[\"SalePrice\"])\n",
    "# keep the feature"
   ]
  },
  {
   "cell_type": "code",
   "execution_count": null,
   "metadata": {},
   "outputs": [],
   "source": [
    "OverallCond = sns.regplot(x=df[\"OverallCond\"], y=df[\"SalePrice\"])\n",
    "# why does it look like this?"
   ]
  },
  {
   "cell_type": "code",
   "execution_count": null,
   "metadata": {},
   "outputs": [],
   "source": [
    "YearBuilt = sns.regplot(x=df[\"YearBuilt\"], y=df[\"SalePrice\"])\n"
   ]
  },
  {
   "cell_type": "code",
   "execution_count": null,
   "metadata": {},
   "outputs": [],
   "source": [
    "YearRemodAdd = sns.regplot(x=df[\"YearRemodAdd\"], y=df[\"SalePrice\"])\n"
   ]
  },
  {
   "cell_type": "markdown",
   "metadata": {},
   "source": [
    "# Data Cleansing and Preprocessing"
   ]
  },
  {
   "cell_type": "code",
   "execution_count": 5,
   "metadata": {},
   "outputs": [
    {
     "data": {
      "text/plain": [
       "LotFrontage      True\n",
       "LotArea         False\n",
       "MasVnrArea       True\n",
       "TotalBsmtSF     False\n",
       "1stFlrSF        False\n",
       "2ndFlrSF        False\n",
       "LowQualFinSF    False\n",
       "GrLivArea       False\n",
       "FullBath        False\n",
       "HalfBath        False\n",
       "BedroomAbvGr    False\n",
       "KitchenAbvGr    False\n",
       "TotRmsAbvGrd    False\n",
       "GarageCars      False\n",
       "GarageArea      False\n",
       "dtype: bool"
      ]
     },
     "execution_count": 5,
     "metadata": {},
     "output_type": "execute_result"
    }
   ],
   "source": [
    "df[[\"LotFrontage\",\"LotArea\", \"MasVnrArea\", \"TotalBsmtSF\", \"1stFlrSF\", \"2ndFlrSF\", \"LowQualFinSF\", \n",
    "      \"GrLivArea\", \"FullBath\", \"HalfBath\", \"BedroomAbvGr\", \"KitchenAbvGr\", \"TotRmsAbvGrd\", \"GarageCars\", \n",
    "    \"GarageArea\"]].isna().any()"
   ]
  },
  {
   "cell_type": "code",
   "execution_count": 6,
   "metadata": {},
   "outputs": [],
   "source": [
    "df['LotFrontage'].fillna(df[\"LotFrontage\"].mean(), inplace = True)\n",
    "df['MasVnrArea'].fillna(df[\"MasVnrArea\"].mean(), inplace = True)"
   ]
  },
  {
   "cell_type": "markdown",
   "metadata": {},
   "source": [
    "## Encoding"
   ]
  },
  {
   "cell_type": "code",
   "execution_count": 7,
   "metadata": {},
   "outputs": [
    {
     "data": {
      "text/html": [
       "<div>\n",
       "<style scoped>\n",
       "    .dataframe tbody tr th:only-of-type {\n",
       "        vertical-align: middle;\n",
       "    }\n",
       "\n",
       "    .dataframe tbody tr th {\n",
       "        vertical-align: top;\n",
       "    }\n",
       "\n",
       "    .dataframe thead th {\n",
       "        text-align: right;\n",
       "    }\n",
       "</style>\n",
       "<table border=\"1\" class=\"dataframe\">\n",
       "  <thead>\n",
       "    <tr style=\"text-align: right;\">\n",
       "      <th></th>\n",
       "      <th>SalePrice</th>\n",
       "    </tr>\n",
       "    <tr>\n",
       "      <th>MSZoning</th>\n",
       "      <th></th>\n",
       "    </tr>\n",
       "  </thead>\n",
       "  <tbody>\n",
       "    <tr>\n",
       "      <th>FV</th>\n",
       "      <td>214014.061538</td>\n",
       "    </tr>\n",
       "    <tr>\n",
       "      <th>RL</th>\n",
       "      <td>191004.994787</td>\n",
       "    </tr>\n",
       "    <tr>\n",
       "      <th>RH</th>\n",
       "      <td>131558.375000</td>\n",
       "    </tr>\n",
       "    <tr>\n",
       "      <th>RM</th>\n",
       "      <td>126316.830275</td>\n",
       "    </tr>\n",
       "    <tr>\n",
       "      <th>C (all)</th>\n",
       "      <td>74528.000000</td>\n",
       "    </tr>\n",
       "  </tbody>\n",
       "</table>\n",
       "</div>"
      ],
      "text/plain": [
       "              SalePrice\n",
       "MSZoning               \n",
       "FV        214014.061538\n",
       "RL        191004.994787\n",
       "RH        131558.375000\n",
       "RM        126316.830275\n",
       "C (all)    74528.000000"
      ]
     },
     "execution_count": 7,
     "metadata": {},
     "output_type": "execute_result"
    }
   ],
   "source": [
    "df[[\"MSZoning\", \"SalePrice\"]].groupby(\"MSZoning\").mean().sort_values(by = [\"SalePrice\"], ascending = False)"
   ]
  },
  {
   "cell_type": "code",
   "execution_count": 8,
   "metadata": {},
   "outputs": [
    {
     "data": {
      "text/html": [
       "<div>\n",
       "<style scoped>\n",
       "    .dataframe tbody tr th:only-of-type {\n",
       "        vertical-align: middle;\n",
       "    }\n",
       "\n",
       "    .dataframe tbody tr th {\n",
       "        vertical-align: top;\n",
       "    }\n",
       "\n",
       "    .dataframe thead th {\n",
       "        text-align: right;\n",
       "    }\n",
       "</style>\n",
       "<table border=\"1\" class=\"dataframe\">\n",
       "  <thead>\n",
       "    <tr style=\"text-align: right;\">\n",
       "      <th></th>\n",
       "      <th>SalePrice</th>\n",
       "    </tr>\n",
       "    <tr>\n",
       "      <th>SaleCondition</th>\n",
       "      <th></th>\n",
       "    </tr>\n",
       "  </thead>\n",
       "  <tbody>\n",
       "    <tr>\n",
       "      <th>Partial</th>\n",
       "      <td>272291.752000</td>\n",
       "    </tr>\n",
       "    <tr>\n",
       "      <th>Normal</th>\n",
       "      <td>175202.219533</td>\n",
       "    </tr>\n",
       "    <tr>\n",
       "      <th>Alloca</th>\n",
       "      <td>167377.416667</td>\n",
       "    </tr>\n",
       "    <tr>\n",
       "      <th>Family</th>\n",
       "      <td>149600.000000</td>\n",
       "    </tr>\n",
       "    <tr>\n",
       "      <th>Abnorml</th>\n",
       "      <td>146526.623762</td>\n",
       "    </tr>\n",
       "    <tr>\n",
       "      <th>AdjLand</th>\n",
       "      <td>104125.000000</td>\n",
       "    </tr>\n",
       "  </tbody>\n",
       "</table>\n",
       "</div>"
      ],
      "text/plain": [
       "                   SalePrice\n",
       "SaleCondition               \n",
       "Partial        272291.752000\n",
       "Normal         175202.219533\n",
       "Alloca         167377.416667\n",
       "Family         149600.000000\n",
       "Abnorml        146526.623762\n",
       "AdjLand        104125.000000"
      ]
     },
     "execution_count": 8,
     "metadata": {},
     "output_type": "execute_result"
    }
   ],
   "source": [
    "df[[\"SaleCondition\", \"SalePrice\"]].groupby(\"SaleCondition\").mean().sort_values(by = [\"SalePrice\"], ascending = False)"
   ]
  },
  {
   "cell_type": "code",
   "execution_count": 9,
   "metadata": {},
   "outputs": [],
   "source": [
    "df.loc[df['SaleCondition'] == \"Partial\", 'SaleCondition'] = 214014\n",
    "df.loc[df['SaleCondition'] == \"Normal\", 'SaleCondition'] = 175202\n",
    "df.loc[df['SaleCondition'] == \"Alloca\", 'SaleCondition'] = 167377\n",
    "df.loc[df['SaleCondition'] == \"Family\", 'SaleCondition'] = 1496526\n",
    "df.loc[df['SaleCondition'] == \"Abnorml\", 'SaleCondition'] = 146525\n",
    "df.loc[df['SaleCondition'] == \"AdjLand\", 'SaleCondition'] = 104125"
   ]
  },
  {
   "cell_type": "code",
   "execution_count": 10,
   "metadata": {},
   "outputs": [],
   "source": [
    "df.loc[df['MSZoning'] == \"FV\", 'MSZoning'] = 214014\n",
    "df.loc[df['MSZoning'] == \"RL\", 'MSZoning'] = 191004\n",
    "df.loc[df['MSZoning'] == \"RH\", 'MSZoning'] = 131558\n",
    "df.loc[df['MSZoning'] == \"RM\", 'MSZoning'] = 126316\n",
    "df.loc[df['MSZoning'] == \"C (all)\", 'MSZoning'] = 74528"
   ]
  },
  {
   "cell_type": "code",
   "execution_count": 11,
   "metadata": {},
   "outputs": [
    {
     "data": {
      "text/html": [
       "<div>\n",
       "<style scoped>\n",
       "    .dataframe tbody tr th:only-of-type {\n",
       "        vertical-align: middle;\n",
       "    }\n",
       "\n",
       "    .dataframe tbody tr th {\n",
       "        vertical-align: top;\n",
       "    }\n",
       "\n",
       "    .dataframe thead th {\n",
       "        text-align: right;\n",
       "    }\n",
       "</style>\n",
       "<table border=\"1\" class=\"dataframe\">\n",
       "  <thead>\n",
       "    <tr style=\"text-align: right;\">\n",
       "      <th></th>\n",
       "      <th>SalePrice</th>\n",
       "    </tr>\n",
       "    <tr>\n",
       "      <th>MiscFeature</th>\n",
       "      <th></th>\n",
       "    </tr>\n",
       "  </thead>\n",
       "  <tbody>\n",
       "    <tr>\n",
       "      <th>TenC</th>\n",
       "      <td>250000.000000</td>\n",
       "    </tr>\n",
       "    <tr>\n",
       "      <th>Gar2</th>\n",
       "      <td>170750.000000</td>\n",
       "    </tr>\n",
       "    <tr>\n",
       "      <th>Shed</th>\n",
       "      <td>151187.612245</td>\n",
       "    </tr>\n",
       "    <tr>\n",
       "      <th>Othr</th>\n",
       "      <td>94000.000000</td>\n",
       "    </tr>\n",
       "  </tbody>\n",
       "</table>\n",
       "</div>"
      ],
      "text/plain": [
       "                 SalePrice\n",
       "MiscFeature               \n",
       "TenC         250000.000000\n",
       "Gar2         170750.000000\n",
       "Shed         151187.612245\n",
       "Othr          94000.000000"
      ]
     },
     "execution_count": 11,
     "metadata": {},
     "output_type": "execute_result"
    }
   ],
   "source": [
    "df[[\"MiscFeature\", \"SalePrice\"]].groupby(\"MiscFeature\").mean().sort_values(by = [\"SalePrice\"], ascending = False)"
   ]
  },
  {
   "cell_type": "code",
   "execution_count": 12,
   "metadata": {},
   "outputs": [],
   "source": [
    "df.loc[df['MiscFeature'] == \"TenC\", 'MiscFeature'] = 250000\n",
    "df.loc[df['MiscFeature'] == \"Gar2\", 'MiscFeature'] = 170750\n",
    "df.loc[df['MiscFeature'] == \"Shed\", 'MiscFeature'] = 151187\n",
    "df.loc[df['MiscFeature'] == \"Othr\", 'MiscFeature'] = 94000\n",
    "df['MiscFeature'].fillna(df[\"SalePrice\"].mean(), inplace = True)"
   ]
  },
  {
   "cell_type": "code",
   "execution_count": 13,
   "metadata": {},
   "outputs": [
    {
     "data": {
      "text/html": [
       "<div>\n",
       "<style scoped>\n",
       "    .dataframe tbody tr th:only-of-type {\n",
       "        vertical-align: middle;\n",
       "    }\n",
       "\n",
       "    .dataframe tbody tr th {\n",
       "        vertical-align: top;\n",
       "    }\n",
       "\n",
       "    .dataframe thead th {\n",
       "        text-align: right;\n",
       "    }\n",
       "</style>\n",
       "<table border=\"1\" class=\"dataframe\">\n",
       "  <thead>\n",
       "    <tr style=\"text-align: right;\">\n",
       "      <th></th>\n",
       "      <th>SalePrice</th>\n",
       "    </tr>\n",
       "    <tr>\n",
       "      <th>Neighborhood</th>\n",
       "      <th></th>\n",
       "    </tr>\n",
       "  </thead>\n",
       "  <tbody>\n",
       "    <tr>\n",
       "      <th>NoRidge</th>\n",
       "      <td>335295.317073</td>\n",
       "    </tr>\n",
       "    <tr>\n",
       "      <th>NridgHt</th>\n",
       "      <td>316270.623377</td>\n",
       "    </tr>\n",
       "    <tr>\n",
       "      <th>StoneBr</th>\n",
       "      <td>310499.000000</td>\n",
       "    </tr>\n",
       "    <tr>\n",
       "      <th>Timber</th>\n",
       "      <td>242247.447368</td>\n",
       "    </tr>\n",
       "    <tr>\n",
       "      <th>Veenker</th>\n",
       "      <td>238772.727273</td>\n",
       "    </tr>\n",
       "    <tr>\n",
       "      <th>Somerst</th>\n",
       "      <td>225379.837209</td>\n",
       "    </tr>\n",
       "    <tr>\n",
       "      <th>ClearCr</th>\n",
       "      <td>212565.428571</td>\n",
       "    </tr>\n",
       "    <tr>\n",
       "      <th>Crawfor</th>\n",
       "      <td>210624.725490</td>\n",
       "    </tr>\n",
       "    <tr>\n",
       "      <th>CollgCr</th>\n",
       "      <td>197965.773333</td>\n",
       "    </tr>\n",
       "    <tr>\n",
       "      <th>Blmngtn</th>\n",
       "      <td>194870.882353</td>\n",
       "    </tr>\n",
       "    <tr>\n",
       "      <th>Gilbert</th>\n",
       "      <td>192854.506329</td>\n",
       "    </tr>\n",
       "    <tr>\n",
       "      <th>NWAmes</th>\n",
       "      <td>189050.068493</td>\n",
       "    </tr>\n",
       "    <tr>\n",
       "      <th>SawyerW</th>\n",
       "      <td>186555.796610</td>\n",
       "    </tr>\n",
       "    <tr>\n",
       "      <th>Mitchel</th>\n",
       "      <td>156270.122449</td>\n",
       "    </tr>\n",
       "    <tr>\n",
       "      <th>NAmes</th>\n",
       "      <td>145847.080000</td>\n",
       "    </tr>\n",
       "    <tr>\n",
       "      <th>NPkVill</th>\n",
       "      <td>142694.444444</td>\n",
       "    </tr>\n",
       "    <tr>\n",
       "      <th>SWISU</th>\n",
       "      <td>142591.360000</td>\n",
       "    </tr>\n",
       "    <tr>\n",
       "      <th>Blueste</th>\n",
       "      <td>137500.000000</td>\n",
       "    </tr>\n",
       "    <tr>\n",
       "      <th>Sawyer</th>\n",
       "      <td>136793.135135</td>\n",
       "    </tr>\n",
       "    <tr>\n",
       "      <th>OldTown</th>\n",
       "      <td>128225.300885</td>\n",
       "    </tr>\n",
       "    <tr>\n",
       "      <th>Edwards</th>\n",
       "      <td>128219.700000</td>\n",
       "    </tr>\n",
       "    <tr>\n",
       "      <th>BrkSide</th>\n",
       "      <td>124834.051724</td>\n",
       "    </tr>\n",
       "    <tr>\n",
       "      <th>BrDale</th>\n",
       "      <td>104493.750000</td>\n",
       "    </tr>\n",
       "    <tr>\n",
       "      <th>IDOTRR</th>\n",
       "      <td>100123.783784</td>\n",
       "    </tr>\n",
       "    <tr>\n",
       "      <th>MeadowV</th>\n",
       "      <td>98576.470588</td>\n",
       "    </tr>\n",
       "  </tbody>\n",
       "</table>\n",
       "</div>"
      ],
      "text/plain": [
       "                  SalePrice\n",
       "Neighborhood               \n",
       "NoRidge       335295.317073\n",
       "NridgHt       316270.623377\n",
       "StoneBr       310499.000000\n",
       "Timber        242247.447368\n",
       "Veenker       238772.727273\n",
       "Somerst       225379.837209\n",
       "ClearCr       212565.428571\n",
       "Crawfor       210624.725490\n",
       "CollgCr       197965.773333\n",
       "Blmngtn       194870.882353\n",
       "Gilbert       192854.506329\n",
       "NWAmes        189050.068493\n",
       "SawyerW       186555.796610\n",
       "Mitchel       156270.122449\n",
       "NAmes         145847.080000\n",
       "NPkVill       142694.444444\n",
       "SWISU         142591.360000\n",
       "Blueste       137500.000000\n",
       "Sawyer        136793.135135\n",
       "OldTown       128225.300885\n",
       "Edwards       128219.700000\n",
       "BrkSide       124834.051724\n",
       "BrDale        104493.750000\n",
       "IDOTRR        100123.783784\n",
       "MeadowV        98576.470588"
      ]
     },
     "execution_count": 13,
     "metadata": {},
     "output_type": "execute_result"
    }
   ],
   "source": [
    "df[[\"Neighborhood\", \"SalePrice\"]].groupby(\"Neighborhood\").mean().sort_values(by = [\"SalePrice\"], ascending = False)"
   ]
  },
  {
   "cell_type": "code",
   "execution_count": 14,
   "metadata": {},
   "outputs": [],
   "source": [
    "df.loc[df['Neighborhood'] == \"NoRidge\", 'Neighborhood'] = 335295\n",
    "df.loc[df['Neighborhood'] == \"NridgHt\", 'Neighborhood'] = 316270\n",
    "df.loc[df['Neighborhood'] == \"StoneBr\", 'Neighborhood'] = 310499\n",
    "df.loc[df['Neighborhood'] == \"Timber\", 'Neighborhood'] = 242247\n",
    "df.loc[df['Neighborhood'] == \"Veenker\", 'Neighborhood'] = 238772\n",
    "df.loc[df['Neighborhood'] == \"Somerst\", 'Neighborhood'] = 225379\n",
    "df.loc[df['Neighborhood'] == \"ClearCr\", 'Neighborhood'] = 212565\n",
    "df.loc[df['Neighborhood'] == \"Crawfor\", 'Neighborhood'] = 210624\n",
    "df.loc[df['Neighborhood'] == \"CollgCr\", 'Neighborhood'] = 197965\n",
    "df.loc[df['Neighborhood'] == \"Blmngtn\", 'Neighborhood'] = 194870\n",
    "df.loc[df['Neighborhood'] == \"Gilbert\", 'Neighborhood'] = 192854\n",
    "df.loc[df['Neighborhood'] == \"NWAmes\", 'Neighborhood'] = 189050\n",
    "df.loc[df['Neighborhood'] == \"SawyerW\", 'Neighborhood'] = 186555\n",
    "df.loc[df['Neighborhood'] == \"Mitchel\", 'Neighborhood'] = 156270\n",
    "df.loc[df['Neighborhood'] == \"NAmes\", 'Neighborhood'] = 145847\n",
    "df.loc[df['Neighborhood'] == \"NPkVill\", 'Neighborhood'] = 142694\n",
    "df.loc[df['Neighborhood'] == \"SWISU\", 'Neighborhood'] = 142591\n",
    "df.loc[df['Neighborhood'] == \"Blueste\", 'Neighborhood'] = 137500\n",
    "df.loc[df['Neighborhood'] == \"Sawyer\", 'Neighborhood'] = 136793\n",
    "df.loc[df['Neighborhood'] == \"OldTown\", 'Neighborhood'] = 128225\n",
    "df.loc[df['Neighborhood'] == \"Edwards\", 'Neighborhood'] = 128219\n",
    "df.loc[df['Neighborhood'] == \"BrkSide\", 'Neighborhood'] = 124834\n",
    "df.loc[df['Neighborhood'] == \"BrDale\", 'Neighborhood'] = 104493\n",
    "df.loc[df['Neighborhood'] == \"IDOTRR\", 'Neighborhood'] = 100123\n",
    "df.loc[df['Neighborhood'] == \"MeadowV\", 'Neighborhood'] = 98576"
   ]
  },
  {
   "cell_type": "markdown",
   "metadata": {},
   "source": [
    "## Standardization"
   ]
  },
  {
   "cell_type": "code",
   "execution_count": 15,
   "metadata": {},
   "outputs": [],
   "source": [
    "std_scalar_model = StandardScaler()\n",
    "ln_part = std_scalar_model.fit_transform(df[[\"MSZoning\", \"Neighborhood\", \"TotalBsmtSF\", \"LotArea\", \"GrLivArea\", \"TotRmsAbvGrd\", \"MiscFeature\"]].to_numpy())\n",
    "nln_part = df[[\"OverallQual\", \"OverallCond\", \"YearBuilt\"]].to_numpy()\n",
    "std_feature = np.hstack((ln_part,nln_part))"
   ]
  },
  {
   "cell_type": "markdown",
   "metadata": {},
   "source": [
    "# Cross Validation"
   ]
  },
  {
   "cell_type": "code",
   "execution_count": 16,
   "metadata": {},
   "outputs": [
    {
     "data": {
      "text/plain": [
       "array([[ 3.87161805e-01,  2.90567321e-01, -4.59302541e-01, ...,\n",
       "         7.00000000e+00,  5.00000000e+00,  2.00300000e+03],\n",
       "       [ 3.87161805e-01,  9.86238250e-01,  4.66464916e-01, ...,\n",
       "         6.00000000e+00,  8.00000000e+00,  1.97600000e+03],\n",
       "       [ 3.87161805e-01,  2.90567321e-01, -3.13368755e-01, ...,\n",
       "         7.00000000e+00,  5.00000000e+00,  2.00100000e+03],\n",
       "       ...,\n",
       "       [ 3.87161805e-01,  5.06375841e-01,  2.15641221e-01, ...,\n",
       "         7.00000000e+00,  9.00000000e+00,  1.94100000e+03],\n",
       "       [ 3.87161805e-01, -5.97931650e-01,  4.69052804e-02, ...,\n",
       "         5.00000000e+00,  6.00000000e+00,  1.95000000e+03],\n",
       "       [ 3.87161805e-01, -8.98450853e-01,  4.52783624e-01, ...,\n",
       "         5.00000000e+00,  6.00000000e+00,  1.96500000e+03]])"
      ]
     },
     "execution_count": 16,
     "metadata": {},
     "output_type": "execute_result"
    }
   ],
   "source": [
    "X = std_feature\n",
    "X"
   ]
  },
  {
   "cell_type": "code",
   "execution_count": 17,
   "metadata": {},
   "outputs": [
    {
     "data": {
      "text/plain": [
       "(1460,)"
      ]
     },
     "execution_count": 17,
     "metadata": {},
     "output_type": "execute_result"
    }
   ],
   "source": [
    "y = df.loc[: ,\"SalePrice\"].to_numpy()\n",
    "y.shape"
   ]
  },
  {
   "cell_type": "code",
   "execution_count": 18,
   "metadata": {},
   "outputs": [],
   "source": [
    "import matplotlib.pyplot as plt\n",
    "def plot(x,y):\n",
    "    plt.scatter(x, y, alpha=0.5)\n",
    "    plt.show()\n",
    "    return"
   ]
  },
  {
   "cell_type": "code",
   "execution_count": 19,
   "metadata": {
    "scrolled": true
   },
   "outputs": [
    {
     "name": "stdout",
     "output_type": "stream",
     "text": [
      "0.10285636449330915 0.03970363381986848\n",
      "0.09466671914711657 0.039591996020809456\n",
      "0.10477449231754102 0.038680905167276416\n",
      "0.10555279891966757 0.038118068360504596\n",
      "0.11615487573023735 0.03916673048387673\n"
     ]
    }
   ],
   "source": [
    "from sklearn.model_selection import train_test_split\n",
    "from sklearn.ensemble import RandomForestRegressor\n",
    "from sklearn.linear_model import LinearRegression\n",
    "from sklearn.neural_network import MLPRegressor\n",
    "for i in range(5):\n",
    "    X_train, X_test, y_train, y_test = train_test_split(X, y, test_size=0.2)\n",
    "    linear = LinearRegression()\n",
    "    linear.fit(X_train[:,:7], y_train)\n",
    "    residual = y_train - linear.predict(X_train[:,:7])\n",
    "    #plot(y_train, linear.predict(X_train[:,:7]))\n",
    "    rf = RandomForestRegressor(criterion = \"mse\", n_estimators = 45)\n",
    "    #rf = MLPRegressor(hidden_layer_sizes = (10,10,10,10), max_iter = 20000, learning_rate = 'adaptive', n_iter_no_change = 500, verbose = True)\n",
    "    rf.fit(X_train,residual)\n",
    "    \n",
    "    \n",
    "    y_test_pred = rf.predict(X_test) + linear.predict(X_test[:,:7])\n",
    "    y_train_pred = rf.predict(X_train) + linear.predict(X_train[:,:7])\n",
    "    #plot(y_train, y_train_pred)\n",
    "    #plot(y_test, y_test_pred)\n",
    "    mape = np.mean(np.abs(y_test_pred - y_test)/y_test)\n",
    "    mape_train = np.mean(np.abs(y_train_pred - y_train)/y_train)\n",
    "    print(mape, mape_train)"
   ]
  },
  {
   "cell_type": "code",
   "execution_count": 20,
   "metadata": {},
   "outputs": [
    {
     "name": "stdout",
     "output_type": "stream",
     "text": [
      "0.8997004051226098 0.9583127842463433\n",
      "0.89128682660217 0.95910622302764\n",
      "0.8943378794037349 0.9580615217229271\n",
      "0.888097753529306 0.96036973060211\n",
      "0.8869900736083289 0.9592007059749096\n"
     ]
    }
   ],
   "source": [
    "from sklearn.model_selection import train_test_split\n",
    "from sklearn.ensemble import RandomForestRegressor\n",
    "for i in range(5):\n",
    "    X_train, X_test, y_train, y_test = train_test_split(X, y, test_size=0.2)\n",
    "    regr = RandomForestRegressor(criterion = \"mse\", n_estimators = 45)\n",
    "    regr.fit(X_train, y_train)\n",
    "    y_pred = regr.predict(X_test)\n",
    "    y_train_pred = regr.predict(X_train)\n",
    "    mape = 1- np.mean(np.abs(y_pred - y_test)/y_test)\n",
    "    mape_train = 1- np.mean(np.abs(y_train_pred - y_train)/y_train)\n",
    "    print(mape, mape_train)"
   ]
  },
  {
   "cell_type": "markdown",
   "metadata": {},
   "source": [
    "# Test Data"
   ]
  },
  {
   "cell_type": "code",
   "execution_count": 71,
   "metadata": {},
   "outputs": [
    {
     "data": {
      "text/html": [
       "<div>\n",
       "<style scoped>\n",
       "    .dataframe tbody tr th:only-of-type {\n",
       "        vertical-align: middle;\n",
       "    }\n",
       "\n",
       "    .dataframe tbody tr th {\n",
       "        vertical-align: top;\n",
       "    }\n",
       "\n",
       "    .dataframe thead th {\n",
       "        text-align: right;\n",
       "    }\n",
       "</style>\n",
       "<table border=\"1\" class=\"dataframe\">\n",
       "  <thead>\n",
       "    <tr style=\"text-align: right;\">\n",
       "      <th></th>\n",
       "      <th>Id</th>\n",
       "      <th>MSSubClass</th>\n",
       "      <th>MSZoning</th>\n",
       "      <th>LotFrontage</th>\n",
       "      <th>LotArea</th>\n",
       "      <th>Street</th>\n",
       "      <th>Alley</th>\n",
       "      <th>LotShape</th>\n",
       "      <th>LandContour</th>\n",
       "      <th>Utilities</th>\n",
       "      <th>...</th>\n",
       "      <th>PoolArea</th>\n",
       "      <th>PoolQC</th>\n",
       "      <th>Fence</th>\n",
       "      <th>MiscFeature</th>\n",
       "      <th>MiscVal</th>\n",
       "      <th>MoSold</th>\n",
       "      <th>YrSold</th>\n",
       "      <th>SaleType</th>\n",
       "      <th>SaleCondition</th>\n",
       "      <th>SalePrice</th>\n",
       "    </tr>\n",
       "  </thead>\n",
       "  <tbody>\n",
       "    <tr>\n",
       "      <th>0</th>\n",
       "      <td>1461</td>\n",
       "      <td>20</td>\n",
       "      <td>RH</td>\n",
       "      <td>80.0</td>\n",
       "      <td>11622</td>\n",
       "      <td>Pave</td>\n",
       "      <td>NaN</td>\n",
       "      <td>Reg</td>\n",
       "      <td>Lvl</td>\n",
       "      <td>AllPub</td>\n",
       "      <td>...</td>\n",
       "      <td>0</td>\n",
       "      <td>NaN</td>\n",
       "      <td>MnPrv</td>\n",
       "      <td>NaN</td>\n",
       "      <td>0</td>\n",
       "      <td>6</td>\n",
       "      <td>2010</td>\n",
       "      <td>WD</td>\n",
       "      <td>Normal</td>\n",
       "      <td>105000</td>\n",
       "    </tr>\n",
       "    <tr>\n",
       "      <th>1</th>\n",
       "      <td>1462</td>\n",
       "      <td>20</td>\n",
       "      <td>RL</td>\n",
       "      <td>81.0</td>\n",
       "      <td>14267</td>\n",
       "      <td>Pave</td>\n",
       "      <td>NaN</td>\n",
       "      <td>IR1</td>\n",
       "      <td>Lvl</td>\n",
       "      <td>AllPub</td>\n",
       "      <td>...</td>\n",
       "      <td>0</td>\n",
       "      <td>NaN</td>\n",
       "      <td>NaN</td>\n",
       "      <td>Gar2</td>\n",
       "      <td>12500</td>\n",
       "      <td>6</td>\n",
       "      <td>2010</td>\n",
       "      <td>WD</td>\n",
       "      <td>Normal</td>\n",
       "      <td>172000</td>\n",
       "    </tr>\n",
       "    <tr>\n",
       "      <th>2</th>\n",
       "      <td>1463</td>\n",
       "      <td>60</td>\n",
       "      <td>RL</td>\n",
       "      <td>74.0</td>\n",
       "      <td>13830</td>\n",
       "      <td>Pave</td>\n",
       "      <td>NaN</td>\n",
       "      <td>IR1</td>\n",
       "      <td>Lvl</td>\n",
       "      <td>AllPub</td>\n",
       "      <td>...</td>\n",
       "      <td>0</td>\n",
       "      <td>NaN</td>\n",
       "      <td>MnPrv</td>\n",
       "      <td>NaN</td>\n",
       "      <td>0</td>\n",
       "      <td>3</td>\n",
       "      <td>2010</td>\n",
       "      <td>WD</td>\n",
       "      <td>Normal</td>\n",
       "      <td>189900</td>\n",
       "    </tr>\n",
       "    <tr>\n",
       "      <th>3</th>\n",
       "      <td>1464</td>\n",
       "      <td>60</td>\n",
       "      <td>RL</td>\n",
       "      <td>78.0</td>\n",
       "      <td>9978</td>\n",
       "      <td>Pave</td>\n",
       "      <td>NaN</td>\n",
       "      <td>IR1</td>\n",
       "      <td>Lvl</td>\n",
       "      <td>AllPub</td>\n",
       "      <td>...</td>\n",
       "      <td>0</td>\n",
       "      <td>NaN</td>\n",
       "      <td>NaN</td>\n",
       "      <td>NaN</td>\n",
       "      <td>0</td>\n",
       "      <td>6</td>\n",
       "      <td>2010</td>\n",
       "      <td>WD</td>\n",
       "      <td>Normal</td>\n",
       "      <td>195500</td>\n",
       "    </tr>\n",
       "    <tr>\n",
       "      <th>4</th>\n",
       "      <td>1465</td>\n",
       "      <td>120</td>\n",
       "      <td>RL</td>\n",
       "      <td>43.0</td>\n",
       "      <td>5005</td>\n",
       "      <td>Pave</td>\n",
       "      <td>NaN</td>\n",
       "      <td>IR1</td>\n",
       "      <td>HLS</td>\n",
       "      <td>AllPub</td>\n",
       "      <td>...</td>\n",
       "      <td>0</td>\n",
       "      <td>NaN</td>\n",
       "      <td>NaN</td>\n",
       "      <td>NaN</td>\n",
       "      <td>0</td>\n",
       "      <td>1</td>\n",
       "      <td>2010</td>\n",
       "      <td>WD</td>\n",
       "      <td>Normal</td>\n",
       "      <td>191500</td>\n",
       "    </tr>\n",
       "  </tbody>\n",
       "</table>\n",
       "<p>5 rows × 81 columns</p>\n",
       "</div>"
      ],
      "text/plain": [
       "     Id  MSSubClass MSZoning  LotFrontage  LotArea Street Alley LotShape  \\\n",
       "0  1461          20       RH         80.0    11622   Pave   NaN      Reg   \n",
       "1  1462          20       RL         81.0    14267   Pave   NaN      IR1   \n",
       "2  1463          60       RL         74.0    13830   Pave   NaN      IR1   \n",
       "3  1464          60       RL         78.0     9978   Pave   NaN      IR1   \n",
       "4  1465         120       RL         43.0     5005   Pave   NaN      IR1   \n",
       "\n",
       "  LandContour Utilities  ... PoolArea PoolQC  Fence MiscFeature MiscVal  \\\n",
       "0         Lvl    AllPub  ...        0    NaN  MnPrv         NaN       0   \n",
       "1         Lvl    AllPub  ...        0    NaN    NaN        Gar2   12500   \n",
       "2         Lvl    AllPub  ...        0    NaN  MnPrv         NaN       0   \n",
       "3         Lvl    AllPub  ...        0    NaN    NaN         NaN       0   \n",
       "4         HLS    AllPub  ...        0    NaN    NaN         NaN       0   \n",
       "\n",
       "  MoSold YrSold  SaleType  SaleCondition  SalePrice  \n",
       "0      6   2010        WD         Normal     105000  \n",
       "1      6   2010        WD         Normal     172000  \n",
       "2      3   2010        WD         Normal     189900  \n",
       "3      6   2010        WD         Normal     195500  \n",
       "4      1   2010        WD         Normal     191500  \n",
       "\n",
       "[5 rows x 81 columns]"
      ]
     },
     "execution_count": 71,
     "metadata": {},
     "output_type": "execute_result"
    }
   ],
   "source": [
    "test = pd.read_csv(\"test.csv\") \n",
    "test.head()"
   ]
  },
  {
   "cell_type": "code",
   "execution_count": 172,
   "metadata": {},
   "outputs": [
    {
     "data": {
      "text/plain": [
       "LotFrontage      True\n",
       "LotArea         False\n",
       "MasVnrArea       True\n",
       "TotalBsmtSF     False\n",
       "1stFlrSF        False\n",
       "2ndFlrSF        False\n",
       "LowQualFinSF    False\n",
       "GrLivArea       False\n",
       "FullBath        False\n",
       "HalfBath        False\n",
       "BedroomAbvGr    False\n",
       "KitchenAbvGr    False\n",
       "TotRmsAbvGrd    False\n",
       "GarageCars       True\n",
       "GarageArea       True\n",
       "dtype: bool"
      ]
     },
     "execution_count": 172,
     "metadata": {},
     "output_type": "execute_result"
    }
   ],
   "source": [
    "test[[\"LotFrontage\",\"LotArea\", \"MasVnrArea\", \"TotalBsmtSF\", \"1stFlrSF\", \"2ndFlrSF\", \"LowQualFinSF\", \n",
    "      \"GrLivArea\", \"FullBath\", \"HalfBath\", \"BedroomAbvGr\", \"KitchenAbvGr\", \"TotRmsAbvGrd\", \"GarageCars\", \n",
    "    \"GarageArea\"]].isna().any()"
   ]
  },
  {
   "cell_type": "code",
   "execution_count": 173,
   "metadata": {},
   "outputs": [],
   "source": [
    "test['LotFrontage'].fillna(df[\"LotFrontage\"].mean(), inplace = True)\n",
    "test['MasVnrArea'].fillna(df[\"MasVnrArea\"].mean(), inplace = True)\n",
    "test['GarageCars'].fillna(df[\"GarageCars\"].mean(), inplace = True)\n",
    "test['GarageArea'].fillna(df[\"GarageArea\"].mean(), inplace = True)"
   ]
  },
  {
   "cell_type": "code",
   "execution_count": 73,
   "metadata": {},
   "outputs": [],
   "source": [
    "test['TotalBsmtSF'].fillna(test[\"TotalBsmtSF\"].mean(), inplace = True)\n",
    "# test['MSZoning'].fillna(test[\"MSZoning\"].mode(), inplace = True)      fill nan with mode manually\n",
    "test['MiscFeature'].fillna(test[\"SalePrice\"].mean(), inplace = True)"
   ]
  },
  {
   "cell_type": "code",
   "execution_count": 74,
   "metadata": {},
   "outputs": [
    {
     "data": {
      "text/plain": [
       "OverallQual     False\n",
       "OverallCond     False\n",
       "GrLivArea       False\n",
       "LotArea         False\n",
       "TotalBsmtSF     False\n",
       "MSZoning        False\n",
       "Neighborhood    False\n",
       "TotRmsAbvGrd    False\n",
       "MiscFeature     False\n",
       "FullBath        False\n",
       "dtype: bool"
      ]
     },
     "execution_count": 74,
     "metadata": {},
     "output_type": "execute_result"
    }
   ],
   "source": [
    "test[[\"OverallQual\",\"OverallCond\", \"GrLivArea\", \"LotArea\", \"TotalBsmtSF\", \"MSZoning\", \"Neighborhood\", \"TotRmsAbvGrd\", \n",
    "      \"MiscFeature\", \"FullBath\"]].isna().any()"
   ]
  },
  {
   "cell_type": "code",
   "execution_count": 79,
   "metadata": {},
   "outputs": [],
   "source": [
    "test.loc[test['MSZoning'] == \"FV\", 'MSZoning'] = 214014\n",
    "test.loc[test['MSZoning'] == \"RL\", 'MSZoning'] = 191004\n",
    "test.loc[test['MSZoning'] == \"RH\", 'MSZoning'] = 131558\n",
    "test.loc[test['MSZoning'] == \"RM\", 'MSZoning'] = 126316\n",
    "test.loc[test['MSZoning'] == \"C (all)\", 'MSZoning'] = 74528"
   ]
  },
  {
   "cell_type": "code",
   "execution_count": 130,
   "metadata": {},
   "outputs": [
    {
     "name": "stderr",
     "output_type": "stream",
     "text": [
      "/Users/Honey/anaconda3/lib/python3.7/site-packages/pandas/core/ops.py:1649: FutureWarning: elementwise comparison failed; returning scalar instead, but in the future will perform elementwise comparison\n",
      "  result = method(y)\n"
     ]
    }
   ],
   "source": [
    "test.loc[test['SaleCondition'] == \"Partial\", 'SaleCondition'] = 214014\n",
    "test.loc[test['SaleCondition'] == \"Normal\", 'SaleCondition'] = 175202\n",
    "test.loc[test['SaleCondition'] == \"Alloca\", 'SaleCondition'] = 167377\n",
    "test.loc[test['SaleCondition'] == \"Family\", 'SaleCondition'] = 1496526\n",
    "test.loc[test['SaleCondition'] == \"Abnorml\", 'SaleCondition'] = 146525\n",
    "test.loc[test['SaleCondition'] == \"AdjLand\", 'SaleCondition'] = 104125"
   ]
  },
  {
   "cell_type": "code",
   "execution_count": 80,
   "metadata": {},
   "outputs": [],
   "source": [
    "test.loc[test['MiscFeature'] == \"TenC\", 'MiscFeature'] = 250000\n",
    "test.loc[test['MiscFeature'] == \"Gar2\", 'MiscFeature'] = 170750\n",
    "test.loc[test['MiscFeature'] == \"Shed\", 'MiscFeature'] = 151187\n",
    "test.loc[test['MiscFeature'] == \"Othr\", 'MiscFeature'] = 94000"
   ]
  },
  {
   "cell_type": "code",
   "execution_count": 81,
   "metadata": {},
   "outputs": [],
   "source": [
    "test.loc[test['Neighborhood'] == \"NoRidge\", 'Neighborhood'] = 335295\n",
    "test.loc[test['Neighborhood'] == \"NridgHt\", 'Neighborhood'] = 316270\n",
    "test.loc[test['Neighborhood'] == \"StoneBr\", 'Neighborhood'] = 310499\n",
    "test.loc[test['Neighborhood'] == \"Timber\", 'Neighborhood'] = 242247\n",
    "test.loc[test['Neighborhood'] == \"Veenker\", 'Neighborhood'] = 238772\n",
    "test.loc[test['Neighborhood'] == \"Somerst\", 'Neighborhood'] = 225379\n",
    "test.loc[test['Neighborhood'] == \"ClearCr\", 'Neighborhood'] = 212565\n",
    "test.loc[test['Neighborhood'] == \"Crawfor\", 'Neighborhood'] = 210624\n",
    "test.loc[test['Neighborhood'] == \"CollgCr\", 'Neighborhood'] = 197965\n",
    "test.loc[test['Neighborhood'] == \"Blmngtn\", 'Neighborhood'] = 194870\n",
    "test.loc[test['Neighborhood'] == \"Gilbert\", 'Neighborhood'] = 192854\n",
    "test.loc[test['Neighborhood'] == \"NWAmes\", 'Neighborhood'] = 189050\n",
    "test.loc[test['Neighborhood'] == \"SawyerW\", 'Neighborhood'] = 186555\n",
    "test.loc[test['Neighborhood'] == \"Mitchel\", 'Neighborhood'] = 156270\n",
    "test.loc[test['Neighborhood'] == \"NAmes\", 'Neighborhood'] = 145847\n",
    "test.loc[test['Neighborhood'] == \"NPkVill\", 'Neighborhood'] = 142694\n",
    "test.loc[test['Neighborhood'] == \"SWISU\", 'Neighborhood'] = 142591\n",
    "test.loc[test['Neighborhood'] == \"Blueste\", 'Neighborhood'] = 137500\n",
    "test.loc[test['Neighborhood'] == \"Sawyer\", 'Neighborhood'] = 136793\n",
    "test.loc[test['Neighborhood'] == \"OldTown\", 'Neighborhood'] = 128225\n",
    "test.loc[test['Neighborhood'] == \"Edwards\", 'Neighborhood'] = 128219\n",
    "test.loc[test['Neighborhood'] == \"BrkSide\", 'Neighborhood'] = 124834\n",
    "test.loc[test['Neighborhood'] == \"BrDale\", 'Neighborhood'] = 104493\n",
    "test.loc[test['Neighborhood'] == \"IDOTRR\", 'Neighborhood'] = 100123\n",
    "test.loc[test['Neighborhood'] == \"MeadowV\", 'Neighborhood'] = 98576"
   ]
  },
  {
   "cell_type": "code",
   "execution_count": 231,
   "metadata": {},
   "outputs": [
    {
     "name": "stderr",
     "output_type": "stream",
     "text": [
      "/Users/Honey/anaconda3/lib/python3.7/site-packages/sklearn/utils/validation.py:595: DataConversionWarning: Data with input dtype object was converted to float64 by StandardScaler.\n",
      "  warnings.warn(msg, DataConversionWarning)\n",
      "/Users/Honey/anaconda3/lib/python3.7/site-packages/sklearn/utils/validation.py:595: DataConversionWarning: Data with input dtype object was converted to float64 by StandardScaler.\n",
      "  warnings.warn(msg, DataConversionWarning)\n"
     ]
    }
   ],
   "source": [
    "test_std_scalar_model = StandardScaler()\n",
    "test_ln_part = test_std_scalar_model.fit_transform(test[[\"MSZoning\", \"Neighborhood\", \"TotalBsmtSF\", \"LotArea\", \"GrLivArea\", \"TotRmsAbvGrd\", \"MiscFeature\"]].to_numpy())\n",
    "test_nln_part = test[[\"OverallQual\", \"OverallCond\", \"YearBuilt\"]].to_numpy()\n",
    "test_std_feature = np.hstack((test_ln_part,test_nln_part))"
   ]
  },
  {
   "cell_type": "code",
   "execution_count": 232,
   "metadata": {},
   "outputs": [
    {
     "data": {
      "text/plain": [
       "array([[-1.75134031e+00, -5.58675392e-01, -3.70808495e-01, ...,\n",
       "         5.00000000e+00,  6.00000000e+00,  1.96100000e+03],\n",
       "       [ 4.05108977e-01, -5.58675392e-01,  6.39144269e-01, ...,\n",
       "         6.00000000e+00,  6.00000000e+00,  1.95800000e+03],\n",
       "       [ 4.05108977e-01,  2.33916507e-01, -2.66875996e-01, ...,\n",
       "         5.00000000e+00,  5.00000000e+00,  1.99700000e+03],\n",
       "       ...,\n",
       "       [ 4.05108977e-01, -3.82931665e-01,  4.01907043e-01, ...,\n",
       "         5.00000000e+00,  7.00000000e+00,  1.96000000e+03],\n",
       "       [ 4.05108977e-01, -3.82931665e-01, -3.03026430e-01, ...,\n",
       "         5.00000000e+00,  5.00000000e+00,  1.99200000e+03],\n",
       "       [ 4.05108977e-01, -3.82931665e-01, -1.13236649e-01, ...,\n",
       "         7.00000000e+00,  5.00000000e+00,  1.99300000e+03]])"
      ]
     },
     "execution_count": 232,
     "metadata": {},
     "output_type": "execute_result"
    }
   ],
   "source": [
    "X_test = test_std_feature\n",
    "X_test"
   ]
  },
  {
   "cell_type": "code",
   "execution_count": 233,
   "metadata": {},
   "outputs": [
    {
     "data": {
      "text/plain": [
       "(1459,)"
      ]
     },
     "execution_count": 233,
     "metadata": {},
     "output_type": "execute_result"
    }
   ],
   "source": [
    "y_test = test.loc[: ,\"SalePrice\"].to_numpy()\n",
    "y_test.shape"
   ]
  },
  {
   "cell_type": "code",
   "execution_count": 21,
   "metadata": {},
   "outputs": [
    {
     "name": "stdout",
     "output_type": "stream",
     "text": [
      "0.03797924801621671 0.03740807037838647 [115617.23089745 192971.00959723  79651.50812391  85454.86714081\n",
      " 135598.4393427  147078.53736932 144444.14012033 284592.79201636\n",
      " 129967.69622614  86221.19035613 215211.39282309 263745.13149672\n",
      " 283687.53080242 262133.56518996  96905.29767548 164693.5893838\n",
      "  93564.57827699 134885.4432566  168228.03758431 142969.91286905\n",
      " 246797.2128124  344800.09997541 149229.1094309  211705.94185028\n",
      " 159794.52079181  81444.36631591 147582.81903505 150530.08737146\n",
      " 252915.41383112 107549.5524459  186851.29012586 153048.10816542\n",
      " 140405.35315054 192847.88143001 124296.11418289 124626.48178845\n",
      " 117042.40232486 238526.92999061 131947.24987814  75976.72428828\n",
      " 159757.0581934  185878.18830571  65893.91746436 107133.78700286\n",
      " 136878.05421755 180087.2815174  188334.58849959 175687.25680917\n",
      " 192075.47120893 136125.34500059 121971.59345091 167974.32451972\n",
      "  94626.3981058  160451.60784818 512665.18950407 273989.65643607\n",
      " 124617.11619996 158754.24655267 134899.51705575 192657.34974025\n",
      " 170091.00773165 299434.66734425 105778.69430414 235749.42359836\n",
      " 157064.99903096 160742.01259727 226541.92530563 215440.44725286\n",
      " 123092.40513798 123497.07954346 204122.7414573  145486.6912256\n",
      " 207476.59353277 165591.43230843 108623.39405664  87504.75142478\n",
      " 321097.02856895 104648.31907197  92868.64435257 124450.09191629\n",
      " 120984.71219209 187119.02409228 175991.65283197 201269.59183943\n",
      " 267494.25114716 115790.65108096 285439.37632242 192230.76652621\n",
      " 186630.88392409 109101.98972201 193775.482693   376648.16636229\n",
      " 167156.21544996 183165.5233454   84652.6797002   98746.08353855\n",
      "  67763.67486525 202289.54415283 223607.68106204 184614.16864248\n",
      " 267846.69036452 126806.87747746 230471.60302474 203655.69159764\n",
      " 296505.31710471 194149.91327843 120402.54455138 221522.65159718\n",
      " 304513.44369241 115226.59861083 281750.07184846 194515.39717351\n",
      " 147376.69132093 233507.05593468  93336.74042108 116738.00092899\n",
      " 146228.03250113 111175.05117113 114397.12859092 168018.21117355\n",
      " 147497.72068653 132093.17214354 142923.40166802 154888.08592067\n",
      " 136410.35218247 238310.41698741 197024.89658805 202092.61542363\n",
      " 110435.85981669 132057.93464405 189848.12561721 214222.59180986\n",
      " 111427.5390963  140279.37531794 129762.75803355 193143.46074223\n",
      " 177107.78857377 156623.80183245 269737.56443762 185959.63779039\n",
      " 128544.06650554 170148.73709569  65318.59314313 181178.455609\n",
      " 151225.37092534  96212.06775404 230340.28949392 221879.77436842\n",
      " 115105.89413112  87437.38369796 171833.48133261 141072.40604648\n",
      " 227811.23674486 152831.74130672 215644.85718496 230772.70609125\n",
      " 221840.55144283 194277.1813031  230351.89841414 137417.85228204\n",
      " 150070.77751075 231814.80519234 245229.62780949 182821.63247418\n",
      " 121917.60767152 283122.42279802 222876.55677353 150169.98517468\n",
      " 173726.35337183 256966.23673079 180348.866023   177751.68836799\n",
      " 268701.38032936 124882.56454218 218151.25556929 340627.0720623\n",
      " 173198.78752113 104030.187785   163480.35023345 155059.01666777\n",
      " 134438.78879909 107384.79976922 115585.3466114  135893.59621911\n",
      " 116203.50318236 203004.29572383 300373.44064067 191024.07255243\n",
      " 111979.63130463 177205.0827287  119790.39967144 368804.51343475\n",
      " 197963.20284199 131445.15907133 266416.16104319 179685.87352639\n",
      " 150576.82729059 268327.73727251 188800.60841007 100718.16606911\n",
      " 189649.17476097 143092.72323249 300521.53719467 200148.10907009\n",
      " 170366.5320087  102287.88360423 147855.91058432 153089.57998613\n",
      " 115806.99169392 126101.83353523 339949.27233653 109438.55262507\n",
      " 222468.95944255  86548.78035813 264138.78614935 361456.53785635\n",
      " 135486.91411882 217788.10917806 115211.5914416  272218.91021325\n",
      " 161629.85787323 242401.43670559 165819.59848127 146558.7600768\n",
      " 140322.14835961 213978.72991992 176325.28431898 221133.03772908\n",
      " 186253.30436647  99470.65721318  81491.46558479 349231.31351029\n",
      " 173898.19626597 149032.67656549 102484.1104155  165405.79084277\n",
      " 232713.78931861 274492.2743247  136195.74171533 259630.54145096\n",
      " 175539.60073658  56686.46013917 153769.23498687  83504.45261047\n",
      " 125321.48530577 180006.77161356 144060.16899979 147470.26356648\n",
      " 281316.79186813 149814.80050431 220118.17124774 148540.13694919\n",
      " 101469.28408329 136838.50810916 188564.03617277 386929.49776213\n",
      " 177330.54601743 699740.13178609 116850.13331919 189525.72970353\n",
      " 144226.73420191 185403.41281323 165525.21189762 123358.68065825\n",
      " 109532.89102546 128907.17049042 243149.16211711 118988.6504124\n",
      " 225533.60001209 273071.99311842 150900.35650862 143456.75975677\n",
      " 239055.02199466 140227.80246425 172868.13907603 130144.56479752\n",
      " 179083.63077116 151190.63083612 361524.35156229 228387.23974388\n",
      " 146934.95955474 109208.4958463  109824.67622084 122415.6514979\n",
      " 200481.92592962 169528.5960267  147545.70088803 108268.86470329\n",
      " 108985.08910202 201832.99503374 265841.24673393 219678.80156189]\n",
      "0.039896644987905516 0.03796809920442232 [116027.96129789 187813.03888681  78212.14491238  84945.18672668\n",
      " 136121.55974187 145515.10060499 144041.52123575 280021.94192415\n",
      " 131176.14026883  88624.06238837 216986.87380892 265719.37266747\n",
      " 281661.332778   259842.75386959  97452.69673652 162887.902176\n",
      "  91478.13406444 133309.18368793 166589.25414034 144497.91020931\n",
      " 256627.70782793 353083.79927092 149869.06072045 210675.06844612\n",
      " 160704.38116273  81462.0163648  149330.35958226 151112.67777353\n",
      " 250427.7361568  110252.21940892 188275.48790493 149979.33748206\n",
      " 140637.07090768 193202.35483283 121914.17950652 127218.99552551\n",
      " 116104.81327536 231568.28825565 132454.58396269  73228.17589921\n",
      " 155136.37172554 186855.434538    64755.53880577 104212.25415005\n",
      " 138571.21537172 179083.34424452 186607.63769827 172781.80683669\n",
      " 194334.50901936 140078.55581749 124964.38563528 166558.82357539\n",
      "  94002.13168099 159695.17486429 524743.84146901 267497.03774329\n",
      " 126884.29271133 159146.81595381 130541.7103209  201689.79384261\n",
      " 166771.42759724 290128.26156752 107012.21663275 235469.70713114\n",
      " 150361.77234653 158050.40483683 227908.10270453 216523.42786003\n",
      " 124570.68825622 124189.95586837 207426.63038591 140984.43301079\n",
      " 206172.34704347 170580.53185102 111233.64038223  86019.94926919\n",
      " 320510.96933164 106367.50707318  90938.39251096 125032.39747817\n",
      " 122207.80388184 185982.47709698 181623.65726581 202191.77336392\n",
      " 278901.05573995 118104.67540142 292117.04085465 189888.24898768\n",
      " 193799.83379759 111237.25573925 192860.94669316 376259.20756335\n",
      " 168478.33621964 188813.66374309  81628.34054423  99256.23689557\n",
      "  69732.63955445 207402.62841154 219098.15353157 185479.84739175\n",
      " 264355.11126747 124530.24392351 231285.6628172  203049.29351307\n",
      " 289575.55506467 194074.32512176 123688.8765146  218613.51968538\n",
      " 294564.52202022 113059.87939595 277878.48957419 195534.65376366\n",
      " 142887.86073401 233515.05422616  91448.49561326 116164.107502\n",
      " 144093.0615926  112040.87346545 114864.82141431 169184.4265936\n",
      " 145732.96811812 132966.68843266 140536.25220194 151409.63122904\n",
      " 136901.37120148 240815.49732463 194464.32384331 205242.1121362\n",
      " 111082.73595103 131565.61545224 187205.48096427 206751.06282933\n",
      " 111131.54136628 139805.78218782 128045.57191738 191599.63310237\n",
      " 178334.15116796 155052.57891797 268066.41624143 189221.92951658\n",
      " 126286.78466921 165128.64064025  66586.25507565 180800.94508933\n",
      " 151426.13545497  98685.04648551 231129.56822018 221162.08305257\n",
      " 115510.43813334  89434.73614426 171946.92010954 145765.55851251\n",
      " 228075.66242422 154056.58631462 214616.36838461 229377.03206328\n",
      " 218041.97479454 198228.82357361 236620.05504381 137255.10327193\n",
      " 152137.56122153 236707.73624821 239031.13530776 185619.75637897\n",
      " 120805.17987093 271965.96912743 223230.93134404 148818.81479535\n",
      " 174604.36344695 252277.21098983 181982.56495493 180957.11394751\n",
      " 269476.35649081 123149.66617645 208573.76403232 342323.25487409\n",
      " 172663.93077041  97603.03348945 164208.33919144 159358.12481194\n",
      " 133389.01165671 107408.02275308 112607.80360098 136336.75772083\n",
      " 116198.30865358 203379.88901195 356713.28165281 188174.40615051\n",
      " 108415.62637844 183241.2006428  118104.36215655 377079.86702474\n",
      " 200896.41221622 133179.93324368 272613.48632761 179983.44390236\n",
      " 149684.33607806 257263.00392756 188281.64851034 101995.03530193\n",
      " 188424.37596844 142403.28083112 307003.04981124 202937.63985148\n",
      " 170693.35610198  97884.85461739 145536.10989785 153227.17186059\n",
      " 118328.78988948 127190.60099126 342612.59224845 108887.08979983\n",
      " 219307.04929542  85820.24088567 255392.23640548 354871.48178302\n",
      " 137168.98502223 216440.87577931 117981.19187451 271617.72224833\n",
      " 160200.02112941 250395.46961638 166757.6320972  146848.88398954\n",
      " 148321.69803171 211461.44741128 176762.6736151  219463.27437572\n",
      " 182089.34882126 102236.30927373  86068.34918489 351819.93597882\n",
      " 170974.30046432 149519.49004716 104530.8443191  165522.66021807\n",
      " 234927.8880711  269876.06174659 133628.07784129 254656.43407368\n",
      " 177997.43347776  51157.21895485 152403.74007099  89253.26471896\n",
      " 133096.17233285 192917.72495938 150396.16086613 150217.5880032\n",
      " 277562.71517644 147877.6459329  214542.8696385  147536.75826853\n",
      "  93506.9034553  137699.06569057 193280.33755685 365349.41718782\n",
      " 180857.63005089 703218.1891623  118178.66783195 193151.78522297\n",
      " 142082.51384033 185163.27813735 180508.74909509 132830.21812009\n",
      " 108602.64453671 129297.36740123 240855.30812673 122304.47904785\n",
      " 226801.07530283 277341.00325489 156070.88505496 143662.22222222\n",
      " 243854.36021628 139144.73852078 169016.00814512 130158.57054433\n",
      " 182528.53322413 154014.978913   362842.0801986  230545.40040524\n",
      " 138838.55060308 109648.92187833 111320.87433619 121426.293153\n",
      " 192077.21093359 172347.50536931 148336.08510262 109242.05578188\n",
      " 105524.5252826  194009.33880282 265006.24131523 220591.19623493]\n"
     ]
    },
    {
     "name": "stdout",
     "output_type": "stream",
     "text": [
      "0.03975253465306047 0.03848255135195021 [115186.97845421 191377.75110905  79319.79247125  86508.57200059\n",
      " 135070.53311246 146468.26621678 148349.41448023 288221.49577847\n",
      " 129630.29404962  84259.04619389 216314.52186467 263414.98654556\n",
      " 280292.85079224 258513.92822816  97584.27060798 165237.15560139\n",
      "  93374.77433142 134182.68041863 168349.84885771 142667.79565636\n",
      " 249317.43836818 338556.77087913 151769.52053481 203860.98970341\n",
      " 162658.69512418  82019.40325802 149022.72096903 149719.67534406\n",
      " 252029.61866825 108367.78151129 187776.95956031 149334.1705342\n",
      " 138049.89590528 191379.03129972 124181.49364213 121566.7115489\n",
      " 115993.20631407 234720.98505916 132648.65710793  75208.92397532\n",
      " 158216.28965084 186890.02280582  65247.46537585 104762.76504443\n",
      " 137151.62282878 178935.82358661 188917.94931069 176716.52504684\n",
      " 183471.53387178 135257.31389535 124004.61877971 165382.29234814\n",
      "  94617.82802113 158795.84544072 547951.23927805 270713.99223797\n",
      " 122670.40418685 158207.68858961 133555.12090952 194847.26378861\n",
      " 178092.58999438 293883.70098082 105989.45727052 240479.26618208\n",
      " 159048.37815092 155652.83213959 222675.27923009 215311.96369589\n",
      " 123690.1469347  123323.42551763 203602.00800289 147473.69893305\n",
      " 206226.00120263 171487.64690947 109065.29239858  85777.46163639\n",
      " 318068.48188358 107436.91065114  92042.4860513  124685.20462542\n",
      " 121812.30818997 186200.637838   178017.04456625 201673.81729238\n",
      " 276342.94596337 117115.09129874 290448.49672958 191372.15438043\n",
      " 192263.8899841  107412.72578454 190770.25169514 383078.49280596\n",
      " 166703.31238041 180372.07404396  83319.9407537  103643.30142096\n",
      "  68050.30331599 210505.89411679 217144.51364217 186040.50346559\n",
      " 262873.52030341 125140.90254464 229485.99722444 206424.502697\n",
      " 295094.18407998 194468.10754595 123717.48110054 219910.78762427\n",
      " 293352.93215275 111705.63086552 280034.0150233  191565.04636649\n",
      " 142959.26303767 233006.31432266  95205.20179037 118226.48721257\n",
      " 143273.85529522 114332.97921923 114097.14560414 168152.16516008\n",
      " 145173.29048972 140246.93642508 142342.88625281 154524.93791993\n",
      " 135928.3388591  242599.51419527 195474.44939788 197376.20015133\n",
      " 115653.25555103 131527.31020638 189740.73244841 216837.57642029\n",
      " 107096.91655177 141584.31398083 129946.27597128 191943.83220329\n",
      " 175731.82671797 155627.89306046 262816.70206569 189252.79839461\n",
      " 128235.17862168 172279.9837942   67316.36478351 179591.421962\n",
      " 154426.11335101  98442.73967701 226808.91291602 224693.48359382\n",
      " 114133.59726868  89018.4031021  172147.2700928  142825.07832508\n",
      " 227015.86453313 151775.42968646 208564.70704412 229628.88519281\n",
      " 218966.48361469 191403.1149939  237028.55186337 137073.29420972\n",
      " 150001.33606501 239462.24946922 229551.99647448 182833.42392798\n",
      " 120826.08016898 291038.04317036 222257.88530027 156057.21159468\n",
      " 178615.34826309 258906.39234207 179708.31242603 179126.7173519\n",
      " 270626.22239937 124047.43888557 208520.79317486 329547.11396503\n",
      " 172701.93477183 102556.1837052  163891.13229235 160887.79835616\n",
      " 137165.61602408 106349.41616715 116391.01819879 136184.59124587\n",
      " 115770.36704207 203194.73120384 307249.95167566 191735.40379708\n",
      " 113282.0451267  177345.38351222 118261.10761218 373650.35072786\n",
      " 202198.08875056 129719.64228748 257620.24404831 180684.72910279\n",
      " 152680.05720563 259793.93943537 187851.50148759 103391.29042275\n",
      " 184523.00009208 138675.17619609 296503.12965369 201313.02367412\n",
      " 169303.84743138 100186.8523197  147596.75100124 153839.78363585\n",
      " 115651.84637014 126099.36749602 344113.62342242 118116.56659978\n",
      " 216841.72251876  85970.41161431 259097.71021606 373755.10469095\n",
      " 136462.18828883 220032.59254094 116058.93150058 274626.05359188\n",
      " 161412.23942927 252292.02456565 171182.37222095 148958.31316767\n",
      " 147150.06969066 212347.74065793 176512.61056965 216834.63153268\n",
      " 183681.4001396   99292.67110219  87022.97881704 348100.15384247\n",
      " 171014.38993951 146465.3278382  104118.52385084 166641.00130055\n",
      " 236820.24143758 273464.30947093 130693.23703537 249705.69988284\n",
      " 177808.41365629  57607.63100498 152795.63260701  87359.65514835\n",
      " 133112.91517056 174110.09605709 153866.5680537  149976.18639768\n",
      " 275472.36508136 143146.58440333 215374.61039132 150328.73147645\n",
      " 100687.32698438 136970.46875692 189778.10918519 381261.80931979\n",
      " 178415.6059845  692939.18575886 118828.75986739 192009.64404801\n",
      " 142925.48200754 184029.60282575 179409.7639472  125808.95847919\n",
      " 109359.65938432 128604.73550516 245175.65715306 116637.64853216\n",
      " 225829.57448256 272812.43981254 157550.64532533 141203.595696\n",
      " 237958.52425894 140413.71517687 167357.76841138 131011.8212512\n",
      " 178865.70147671 156953.98267102 360805.23803838 233580.27129248\n",
      " 142550.26667383 110973.70587387 110070.05381476 124025.91190417\n",
      " 193777.71719685 174734.44349758 146856.20040117 109591.93474096\n",
      " 108468.27054133 196654.04052319 263203.92567888 223051.97626956]\n",
      "0.03916677629422703 0.038725626769003055 [114408.10954261 192990.69337152  77901.61402791  84556.68665498\n",
      " 134078.94782454 148791.29316278 145609.03441743 289618.74775241\n",
      " 130829.24128035  83974.32217216 213841.71069469 262857.40307507\n",
      " 279827.83275687 260491.04865403  93244.52456116 166854.48548636\n",
      "  93207.07911227 134462.41107811 164915.19741813 145657.95129944\n",
      " 254906.72042259 326943.84569405 149934.92205468 203632.60727086\n",
      " 161284.56167557  83346.86226521 149397.32953573 150748.93437121\n",
      " 253232.16309964 107193.54344332 189141.95254497 151960.65897796\n",
      " 140125.70171712 192588.90151961 118422.17034773 123351.70656523\n",
      " 114602.10606292 236053.35568333 130582.06759255  76658.76062655\n",
      " 157796.02503802 187867.65214029  67967.54058021 106554.75619266\n",
      " 143606.34255773 179375.14237175 189199.24357663 176699.96947244\n",
      " 183120.5550324  140463.63776251 121117.40259541 163655.76815978\n",
      "  93195.71773641 158996.60156364 534340.91929807 263182.55011098\n",
      " 127083.54827263 157676.16336907 132090.12311336 193834.85202349\n",
      " 173247.67953839 295661.86584299 107161.29056883 235533.48788365\n",
      " 156125.44468696 152435.89967337 212790.75518899 216074.23239139\n",
      " 121920.24357764 122793.34512369 202683.33970868 146461.82122224\n",
      " 207728.88217871 170643.12515878 108646.16364335  86263.47729885\n",
      " 327951.93975548 103005.17264879  91984.96474935 123602.71465166\n",
      " 121983.87027072 187678.65106857 176178.50575484 199187.70912278\n",
      " 269979.59942066 116344.79797926 289940.91936716 195945.05629575\n",
      " 188427.8422279  108450.08075228 198321.02910891 377669.49824487\n",
      " 166622.45912057 179229.38644099  82685.09197159 102562.31825423\n",
      "  71527.41784777 204812.03168293 218821.89759307 181423.60700531\n",
      " 276410.0588546  125107.27210156 230189.5892632  202488.91191484\n",
      " 298650.43607187 194685.62928109 122655.41217658 220352.7633782\n",
      " 298945.20490234 110538.6022067  280647.58166812 195721.63765031\n",
      " 148197.69883253 233013.7313531   92910.0131285  117015.32835392\n",
      " 144461.93044329 111321.92959827 114684.02155187 170022.11848164\n",
      " 147685.39081165 136443.48576862 144262.46108948 154317.68408695\n",
      " 133462.56699735 244569.24354532 196441.85966615 198100.1376527\n",
      " 111693.36930771 132868.91653739 183194.49204477 204764.92422861\n",
      " 108340.53027385 142657.06002809 127771.17935867 192638.08650124\n",
      " 177923.77275878 154483.97161595 263570.13462947 190422.02331089\n",
      " 127860.26913519 162982.08913165  65393.54887348 180739.87404778\n",
      " 151412.31323628  98056.38715851 233792.16734924 223684.1241863\n",
      " 114642.90654598  88519.80104812 173001.0678669  145286.16218329\n",
      " 228156.70321609 154388.0358205  218744.77963048 231975.63360056\n",
      " 221463.97382598 196983.67979566 237785.54835043 136839.85179917\n",
      " 149609.02465529 243766.71396506 234371.17891513 187611.34616675\n",
      " 121444.3734674  283137.96222957 223685.38172648 144444.56073567\n",
      " 177127.1964077  250061.12013721 181549.31172244 179121.74526657\n",
      " 268463.48883733 125746.40499302 221733.2070484  341899.79932513\n",
      " 172182.24344994 103087.56439743 164532.64590754 156957.25264304\n",
      " 132933.13064664 105489.36834059 113170.81436638 136061.40699133\n",
      " 117176.22293134 207019.10768945 331807.97598588 190562.12791608\n",
      " 114343.22411845 184449.53162254 120412.13806184 375828.38903717\n",
      " 199321.54487004 131435.82854621 264132.54543277 181822.8788109\n",
      " 150614.70443957 268347.13110931 189053.41578259  95956.45418308\n",
      " 188873.18027385 139025.46688626 295851.26367701 199812.2670943\n",
      " 168670.18448881  99613.77086189 147541.36378656 153945.09451649\n",
      " 112939.05955329 126965.86997136 355114.59162864 108547.07723305\n",
      " 221871.99118606  87644.89624109 264315.41633842 357936.85413215\n",
      " 131355.48550577 214706.47650552 112643.7614565  272706.11159603\n",
      " 158832.95659426 242057.58671642 167903.84731383 146626.50326874\n",
      " 148057.49452249 208398.70596324 179597.44554865 223431.63897056\n",
      " 186457.23814252  95299.42616219  81808.6700142  353361.89953104\n",
      " 168214.30281103 147039.56747145 103597.11753736 166128.95250787\n",
      " 236232.1272836  272158.81086855 134979.52301863 260389.70755718\n",
      " 176726.75709964  58486.47203984 155093.0445999   84112.38225944\n",
      " 131732.51100079 181285.85229584 149304.10645722 147127.01237664\n",
      " 277691.46003357 148361.88823741 213980.25488477 148685.92725947\n",
      "  96403.30470699 139395.28717393 192154.56845518 379697.59313232\n",
      " 179047.91382995 707729.53920176 116343.32463176 193542.87746051\n",
      " 142902.12903477 183301.68758672 178511.72191342 126962.63950757\n",
      " 109929.08763116 130490.41834666 242898.53425074 120512.47831608\n",
      " 227221.71304398 276091.14203163 154681.43530273 144342.20236432\n",
      " 241217.00657803 140169.47681603 170715.18135599 130795.12205254\n",
      " 181514.5358026  154330.1335984  366501.53477259 232118.23109135\n",
      " 144405.71381606 110976.99414033 111512.41897954 120093.50746037\n",
      " 192096.36057745 174751.83726417 148799.4189796  109826.73098963\n",
      " 108918.54513353 191971.92450905 262050.46137371 222267.85213374]\n"
     ]
    },
    {
     "name": "stdout",
     "output_type": "stream",
     "text": [
      "0.04118994156843322 0.03894156004522549 [113215.40670822 190314.62712216  76785.21766782  84903.45824762\n",
      " 135123.18441769 143257.96230205 147534.51046902 286315.58130384\n",
      " 130259.97014409  84948.7350349  218931.01526639 265219.92060933\n",
      " 273983.66347406 257755.74963267  97199.06338836 164596.59765474\n",
      "  91064.14863774 132956.38095876 170941.33007607 140297.87660123\n",
      " 254285.36059703 345672.31490231 147573.96419723 205309.19999692\n",
      " 157928.22968785  84344.45114967 151745.41439148 152209.57825865\n",
      " 252110.11987285 109522.4399431  186040.89265231 152945.49872765\n",
      " 141650.13375906 189672.46075196 122974.41321117 123371.70508119\n",
      " 116012.73857194 235097.07130832 132361.49572171  74394.05708006\n",
      " 158242.94925937 183419.94910314  63981.08716342 110248.07794993\n",
      " 140175.77084313 182308.33509069 187429.16951625 173472.14250773\n",
      " 189449.85776362 140613.33448795 126456.62284644 168480.19904734\n",
      "  94077.34716093 161756.89531198 517811.78524233 270021.13721007\n",
      " 123320.35319242 157149.55783579 134027.1376013  195580.65579982\n",
      " 173301.35674757 301269.41564342 109840.71389577 236981.29171232\n",
      " 155239.19518972 155449.89040831 225519.3889243  215929.57985484\n",
      " 121956.01232173 125032.91531706 206287.53783831 143075.13465479\n",
      " 205063.29681831 165897.47436517 108793.48237168  88036.84577581\n",
      " 328067.05205786 106296.33747575  93039.99549952 124615.14139783\n",
      " 121719.56619483 184799.75521096 179975.72591703 202988.54449967\n",
      " 278865.3218436  118031.09693968 287943.41253109 189055.49114192\n",
      " 194031.31669484 107083.88997686 201420.91651874 374160.19465565\n",
      " 168970.72565511 188623.18645178  83596.07714784 102621.62077709\n",
      "  65043.38842406 205871.09391449 219637.77426064 186017.74441348\n",
      " 277995.91356761 126522.2054007  231585.00738571 206941.23661982\n",
      " 288596.70968283 192207.61329572 123492.58990224 224887.62671506\n",
      " 307221.54985334 113449.72723183 275829.49359967 198647.31751691\n",
      " 145388.03533937 233242.5289412   97039.86522363 115180.74383816\n",
      " 144056.74846101 112940.96741222 115042.6359047  167067.51968054\n",
      " 146550.2229187  135252.05648054 144561.09715934 152598.21671685\n",
      " 135228.76763047 244006.15355148 195302.08101895 205016.72486105\n",
      " 110653.90501244 131467.64842347 186696.94070927 206820.48398017\n",
      " 108990.86433738 141913.02719403 128159.82130644 191410.73185887\n",
      " 176190.25520116 154707.3351976  262711.43296971 185862.22255779\n",
      " 128819.45849527 165593.82001699  67296.27960344 186754.32591014\n",
      " 150441.78279603  97720.59146184 223265.24794362 226174.46184673\n",
      " 113034.73634925  88958.17069596 173027.2902543  145006.42899966\n",
      " 223093.62492455 152786.57762921 210135.79839015 230762.51253828\n",
      " 219269.19195429 195932.3091787  233907.73371908 137631.8578114\n",
      " 154460.44154715 234605.94261865 244020.62190772 182544.13779596\n",
      " 120003.92903926 292594.16116977 222427.81440011 151310.85977806\n",
      " 176809.7565864  250610.5681525  182128.34161771 183044.82120126\n",
      " 268455.2582272  127683.59028555 211421.78822762 332820.86850581\n",
      " 173874.32948913 101591.22377728 161723.13718466 156011.0663368\n",
      " 134271.37392413 109119.61093476 113167.57124346 137056.94618572\n",
      " 116273.37540725 201327.6431253  415449.60522791 188728.15663971\n",
      " 106825.48085951 187732.8222777  122806.27322516 376934.79333439\n",
      " 201617.54213597 130502.27918482 267762.11492274 179441.48707995\n",
      " 151714.43471776 259778.11971479 186256.3870436  102110.87579379\n",
      " 184314.17482367 144630.08820641 300772.45103806 202790.89473693\n",
      " 173890.39478679  99738.80702308 147022.28224338 153852.77419606\n",
      " 115954.99816266 125168.30108538 341566.72423736 112461.28621987\n",
      " 214787.58631868  84522.80229615 266516.88554351 364693.67033651\n",
      " 136848.95638689 214366.92900675 115843.52710597 272200.6276886\n",
      " 163152.20906541 247555.61063079 167156.19011884 151458.7373014\n",
      " 148332.57890535 211661.30325856 178039.16195901 219737.00345973\n",
      " 191141.9138944   99123.62187531  81052.72049546 354421.45846894\n",
      " 173191.21251857 147601.85986642 101517.63620007 167199.52890771\n",
      " 236259.4819466  273889.94498164 136406.9901693  259097.72477245\n",
      " 178747.99237727  49654.79283496 152773.51993969  91752.11553235\n",
      " 133017.93567055 175129.87163294 146445.65548645 148927.08620641\n",
      " 281475.58736866 146118.48924526 215478.69728909 147770.77319256\n",
      " 106111.47970148 133011.31574514 187201.62817538 380796.69612364\n",
      " 180508.82190796 712510.78297609 116725.99455219 191860.79860334\n",
      " 143583.44706983 184948.50050845 173031.09526745 121602.26195712\n",
      " 109674.28818948 129630.9779273  238221.49855361 119204.92029064\n",
      " 225717.52642423 276031.48415797 154593.26851365 143391.14426301\n",
      " 241336.31583507 141185.67161306 172861.92982763 132245.5443812\n",
      " 181487.35645144 152615.56515883 362666.16345706 231451.90545877\n",
      " 141123.49199478 111699.41634757 113341.36192576 126411.81515189\n",
      " 196009.43106045 170697.87122159 147626.46896245 110125.28970846\n",
      " 111347.61082608 194608.39614297 266809.17628777 222171.67033909]\n",
      "0.04156992845535368 0.038437875709063 [112982.73950611 185902.89257125  74206.45929241  87045.33270681\n",
      " 134986.89884252 147374.97714375 145471.78048332 277743.09593944\n",
      " 130027.76276929  83415.83880104 221705.20698342 263726.72881984\n",
      " 278308.05638445 261938.05323007  98793.95594959 163066.83645527\n",
      "  94663.62646977 135097.08137714 168523.86545977 142355.14743417\n",
      " 252947.64298154 350776.97356679 150022.56150812 207632.77238032\n",
      " 160171.36064159  85606.25902947 151328.8477537  151232.90630401\n",
      " 250666.06129113 108788.61544963 186368.52535218 153245.42605536\n",
      " 139615.6846613  192323.29310656 120026.43602056 123879.54688263\n",
      " 116473.1919131  235583.42931369 133413.28325198  75306.94952533\n",
      " 157228.81587825 186566.51719754  67355.6679248  105760.80637894\n",
      " 135643.47860317 178932.56624539 190924.46729048 176167.70697814\n",
      " 179481.20963502 138436.13708225 123668.83587896 167848.25256339\n",
      "  92650.38966365 160740.52547318 523313.39054616 261323.04631978\n",
      " 128929.22415603 157961.48161738 132891.07743872 193461.87184308\n",
      " 173284.96627904 289545.28770954 105494.08831697 239278.22243583\n",
      " 158059.91014249 163278.28054087 226219.2803831  216835.05577365\n",
      " 121736.07628863 123183.48487561 206767.98827902 144307.12770937\n",
      " 203670.02228814 168820.10933338 110661.42288546  85623.51022632\n",
      " 320987.17906666 101773.85553649  92346.8970933  126223.13744298\n",
      " 121301.09411926 187784.47043752 177334.24656956 208306.25679398\n",
      " 268232.24087649 115791.72377618 295796.50073233 192245.86472489\n",
      " 187364.69125511 110385.6703744  192186.10880372 374143.75340883\n",
      " 167861.40671348 188473.51904022  85200.38376727 102333.94369085\n",
      "  72787.84823131 204357.20092031 216208.32333556 182923.09638677\n",
      " 274454.40780116 127277.2129934  229958.15481522 206322.7629582\n",
      " 294166.79123034 188303.89905554 122563.13987978 222162.83991364\n",
      " 303054.31374792 113276.90120237 275956.47360317 196316.95519153\n",
      " 148380.95126593 236744.96158282  89341.11281237 115838.28003362\n",
      " 145973.99185835 110318.99825339 115478.7769565  170739.37841042\n",
      " 148090.55124646 137153.88990656 143227.53101767 153038.25048934\n",
      " 137729.83699976 243368.11461438 199062.11099413 205322.31569467\n",
      " 113283.32995039 133406.4729606  189341.08153443 209145.09630016\n",
      " 109365.39437134 141531.93278586 129868.92229356 193609.54638916\n",
      " 176813.3939114  155689.31048395 265585.73976747 189541.14715202\n",
      " 127032.11819419 161670.41050011  68863.50459887 185486.81149717\n",
      " 150089.64110351  96732.25101483 229539.68284693 224033.24448901\n",
      " 113206.7045001   87066.04735347 173263.80883316 145672.08248437\n",
      " 227276.96963857 153174.33074006 224402.60283655 230517.65166957\n",
      " 220067.32072806 195014.24286783 242862.26225068 138630.66531489\n",
      " 150514.61896661 234705.34754853 234483.65829623 183572.67684438\n",
      " 122721.03083724 284191.90243067 225505.75167107 160105.19102714\n",
      " 176860.29149046 251649.26754266 182377.39466743 181226.11772818\n",
      " 269134.71351177 124028.10863803 214939.2943071  334918.62358582\n",
      " 171681.59683087 100885.77056828 162451.32451116 158925.37084936\n",
      " 135515.02961103 106055.76258768 109365.62341345 136229.84309843\n",
      " 116425.85524923 203827.29489028 334564.00043318 190775.06367387\n",
      " 118642.15311715 187334.3982283  119522.10167755 370899.07028191\n",
      " 199199.44538617 131679.3825465  262363.75428438 180212.97892772\n",
      " 151818.90537831 261173.56537665 188792.97978446 103648.95541403\n",
      " 189254.77912617 143668.51770215 301355.00078345 204687.33383735\n",
      " 168752.17689732 103005.24959381 145238.89644046 154511.71658218\n",
      " 111948.49529665 127522.01455979 348632.35093264 114644.27293183\n",
      " 220938.0336248   87734.41760456 260044.59524368 353010.66236266\n",
      " 136555.50636776 218510.71204696 112560.42708547 274764.78418448\n",
      " 162772.98104144 239245.18017006 165762.63749428 149601.33142885\n",
      " 146806.03903425 211970.29592565 177391.0842959  217924.08487364\n",
      " 185059.11669956  96817.38211801  79706.176965   359760.64626291\n",
      " 170891.54338121 148459.59065853 103604.83828509 167868.71139706\n",
      " 230693.93419535 273095.35105011 131350.65197509 258013.83782466\n",
      " 178773.55569852  61309.51828051 151493.19237348  91663.26185795\n",
      " 129640.44948221 183044.31564126 147347.26856082 149057.37791362\n",
      " 276672.9084799  145763.58057631 218815.35643808 149197.43801725\n",
      " 100516.3529621  137938.61490369 192322.86265659 376191.47057569\n",
      " 180793.34707859 705830.94278386 119408.12251501 189349.38516209\n",
      " 143102.41188403 185838.7947042  172317.56774966 132314.99860826\n",
      " 110996.42638212 129891.51381228 240518.94840631 119848.04997188\n",
      " 224182.51823493 269983.45127847 155362.87906977 142837.39356835\n",
      " 244979.81799143 139456.77702012 169878.20769919 129622.50393663\n",
      " 178557.26594348 154937.66128589 359503.58992496 230208.11179251\n",
      " 141581.52758825 110991.67346707 109747.69138145 119986.3943666\n",
      " 196064.56154427 171220.28057318 147740.0384057  109591.97876916\n",
      " 109612.70168537 193955.88595786 265872.33146891 221510.2622967 ]\n"
     ]
    },
    {
     "name": "stdout",
     "output_type": "stream",
     "text": [
      "0.03966116529390682 0.03803095030955122 [117718.82525277 190507.34390465  79404.980217    84174.07592026\n",
      " 135343.03269767 146471.6092347  145735.79909769 279888.90336875\n",
      " 130062.30912304  85687.91654234 223265.12738594 265280.83002166\n",
      " 277834.96604095 254665.1378084   98297.08780213 161824.7669467\n",
      "  93144.63497636 129774.83753278 169071.35575757 140697.35836536\n",
      " 252635.64827059 347896.51312547 148551.23143389 204125.04155659\n",
      " 159418.12878022  86315.48124019 146661.94871866 152696.82041374\n",
      " 251375.42818678 106606.79918513 189172.33394908 150606.65618463\n",
      " 138044.30811562 189831.41887463 119786.9059099  124184.87302602\n",
      " 114293.65772989 229404.47376917 132859.40338226  74020.29733608\n",
      " 157125.64677947 188421.63810609  66077.29224421 104777.31462812\n",
      " 137196.95420395 177879.15492428 188915.04399542 176301.07456289\n",
      " 193015.29432194 141388.24695666 125726.33763108 165420.18137142\n",
      "  94007.43618261 160137.46679935 549048.70015622 267255.66972417\n",
      " 124992.2183668  158572.06455804 132740.48490008 197241.91525272\n",
      " 174139.64063634 301456.04070708 105052.34722455 236914.04551812\n",
      " 155273.916486   154742.50045717 217603.99614415 216053.51418368\n",
      " 127981.58155139 119848.39845163 205769.84400739 145544.32181926\n",
      " 204521.74669607 170298.65593691 108198.35814665  88894.21146237\n",
      " 313495.67931615  98495.4255094   92918.0334178  126371.3939171\n",
      " 122193.87474662 188595.96841212 180424.09896168 205563.84487449\n",
      " 283973.37430493 117121.47000485 287702.29828261 195990.54615359\n",
      " 187385.21931842 110056.60276431 204308.95238282 372268.95436267\n",
      " 168246.30304355 182642.39903759  82839.59577831 102969.91860484\n",
      "  69422.27789641 200980.72682936 212240.76560959 182686.61042379\n",
      " 275192.16728332 128242.97440656 230696.76000883 205062.93362585\n",
      " 292241.18203579 191936.04095169 124407.56174639 218539.88082667\n",
      " 298759.95137001 112591.75201629 276058.9919966  196658.80959219\n",
      " 143969.28492913 231314.92820028  95278.39036852 118062.555715\n",
      " 145558.29687897 110049.83535094 115317.03072755 166529.76468455\n",
      " 149250.74534339 136062.34284411 143079.70133926 154911.7674556\n",
      " 138023.83926273 245084.37631925 194695.83704775 200361.24605842\n",
      " 112200.68068861 132593.76413255 196057.98037595 204491.51841213\n",
      " 112862.5190922  141371.46906081 128860.24760591 192427.97995254\n",
      " 175860.5844538  156133.93118141 262973.87106044 188839.77604852\n",
      " 128557.18283116 167849.46644045  65795.41846723 181624.47331825\n",
      " 149341.97270798  99780.27326794 228005.17991818 224366.90561764\n",
      " 115524.77199585  89083.63966698 172607.63304959 146431.72489721\n",
      " 228474.01010019 150728.28421261 219979.24977967 230821.92646423\n",
      " 222131.33975988 195848.32649526 240813.31208397 136576.96019618\n",
      " 151501.24666808 249823.79600506 228515.91167873 184392.18666308\n",
      " 120660.32116383 279556.25192804 223480.79955736 152329.65082169\n",
      " 177812.48907297 261328.29625891 181162.24209162 181642.56450489\n",
      " 272316.39597488 126716.00831871 216552.13274567 342935.98664461\n",
      " 172986.12106511 104149.98448314 162535.30721418 157457.8067233\n",
      " 135351.08193097 105877.22781041 118823.02324515 137210.8059492\n",
      " 115998.43557467 205138.52955249 289330.18630218 189933.38636637\n",
      " 110728.93462577 181007.73217185 119943.29709673 366661.84230747\n",
      " 198919.10810305 133204.07302118 266695.15911393 180230.68049616\n",
      " 150643.94059804 263473.17284118 186349.82552099  89948.66156134\n",
      " 188355.99629902 152069.35458235 296236.75186346 201216.73040892\n",
      " 170642.49920234  97838.88808709 145398.42243416 153699.1614531\n",
      " 118283.71801937 122623.35215306 345617.57987504 113041.09520812\n",
      " 223158.99383649  86512.24286317 260392.25014938 355662.34963564\n",
      " 136667.08514176 213319.58904122 116772.3161433  269680.80810055\n",
      " 163566.76452016 247450.15427504 169155.80598862 151502.71590665\n",
      " 141126.13055965 210258.44179722 176124.09196294 225992.6408412\n",
      " 188321.47477842  96088.32362339  86117.40148816 355231.89960048\n",
      " 170180.45339886 148278.92020697 103436.25521523 164441.60300021\n",
      " 236229.08840514 269717.79472728 131685.8461268  264308.36468424\n",
      " 175791.74978948  56259.36573687 152723.24228303  84372.46388135\n",
      " 129821.70097313 176711.08438234 148686.26913685 148189.16563657\n",
      " 276612.50982198 145742.51933526 217267.34736595 149570.31681925\n",
      " 100136.31398336 138964.22114129 191987.58486219 385687.62068988\n",
      " 179157.71860607 712417.00394299 118131.19191155 194961.19576842\n",
      " 141365.90715696 186129.35974421 178916.9693387  120897.82249788\n",
      " 108397.32420047 129161.31871497 239159.2067495  119665.8433779\n",
      " 225623.99789718 267058.62790657 156567.40317776 141229.49884655\n",
      " 243463.43233913 139316.9517916  171365.12810469 131826.07004886\n",
      " 180264.31310489 156373.50356043 360057.72664365 229904.56380209\n",
      " 144258.16504381 110623.14268675 111278.72438902 125568.86799195\n",
      " 194153.63907352 167636.36796462 149193.96445216 109517.59853912\n",
      " 109630.67895686 191940.42568049 265026.49995313 219866.31607449]\n",
      "0.03838034874098894 0.03824998191094699 [115542.78582585 196457.70763362  80025.51448895  81621.59341075\n",
      " 136442.1995759  147935.83259363 145105.69250251 295318.44253498\n",
      " 129832.83353964  85291.5508677  220103.22274389 265513.93588151\n",
      " 274425.71622563 258976.02932827  94991.9215545  163515.95577542\n",
      "  94766.32312519 130646.12417327 166978.61405581 144391.92291168\n",
      " 250420.55928427 362523.196116   148454.18392407 204313.72923174\n",
      " 161055.52205582  85261.72621622 145618.17981572 149309.26079465\n",
      " 246081.59978482 109890.23105438 186700.60423008 151664.87746328\n",
      " 140442.16982224 193140.09496178 122610.71001169 123619.05042284\n",
      " 115122.86537332 234029.24844185 131836.46083434  75488.24584988\n",
      " 157523.63736337 187378.14406158  66632.99420222 104996.7470378\n",
      " 138862.22851951 180751.99399915 187561.08331124 175869.56966542\n",
      " 181904.69324388 141380.78491511 122203.47621465 167515.40888061\n",
      "  93032.99395165 157485.18376148 512046.17747481 268869.99399407\n",
      " 124071.00680377 157723.9161829  132631.40547484 198079.42805895\n",
      " 175218.50971335 296474.72188234 102967.68336503 235060.07436613\n",
      " 157399.84513208 161013.04746788 220229.12490066 215528.1168678\n",
      " 123442.97226384 122634.01478523 202269.35997426 146667.06602249\n",
      " 205769.99784411 166919.18883003 107553.76506892  87990.72801546\n",
      " 318095.30154901 102750.95598702  92488.30546957 125683.86053152\n",
      " 120754.49785303 187631.49967102 176842.79872626 200085.18508518\n",
      " 280195.80450508 120626.84731986 293038.2870679  192232.76137231\n",
      " 188986.1628536  107623.96630177 198501.55189837 371819.84024095\n",
      " 167004.62796506 181947.10651108  81786.53920722 101853.97384843\n",
      "  70011.01652575 208505.03787569 221015.51611066 186034.55475918\n",
      " 270749.5355824  128199.54737252 226132.45772804 203557.4060174\n",
      " 284310.72400035 191066.08858513 121987.18565922 222462.02038522\n",
      " 304191.85023155 112593.8813845  283567.40673823 195642.29006032\n",
      " 143142.79316758 235593.6503588   91276.10951307 116434.34899428\n",
      " 141986.48242412 114192.76361051 114750.53844469 169303.89522236\n",
      " 147763.19077016 135353.69288532 143916.2034762  153114.80016521\n",
      " 136785.11702417 243317.65228123 200411.46751737 201391.12093318\n",
      " 113454.40035693 132350.95442065 190486.27357723 204008.45736728\n",
      " 110382.82174645 138577.44574481 126171.80492117 190491.97607461\n",
      " 176362.08010317 154996.32836626 265401.99843391 187810.70493758\n",
      " 126911.8525282  169329.99610153  67125.25437497 185888.29928828\n",
      " 149334.71404218  98172.80605186 225983.3915961  220719.14899551\n",
      " 114765.46194908  89383.32465766 175150.45396581 145973.88009594\n",
      " 224922.71034065 152402.58832867 216202.09428056 229170.50601703\n",
      " 222128.78126584 194222.82069388 235433.04247823 138662.92522633\n",
      " 152924.46636746 230086.13328315 228612.85382956 182516.25214397\n",
      " 122387.25579786 274426.61662821 224207.19998185 154262.57094088\n",
      " 179722.93407695 254224.12177525 181417.7215481  182419.41326694\n",
      " 267757.8765327  126433.87339264 219033.35962736 337497.73327842\n",
      " 171883.57980663 105580.03504496 165612.89401567 153812.7902136\n",
      " 135295.6110913  108484.46329595 114743.70084498 138270.6597684\n",
      " 116439.50245129 202667.36274891 325301.6303169  194747.47374392\n",
      " 107629.56402392 181916.26154068 121180.27689859 377719.26703731\n",
      " 200986.67836829 130411.72964626 272862.14280187 180790.04054856\n",
      " 150164.16942054 260098.40264346 188457.13491689  99354.42671914\n",
      " 185560.48982447 150289.70259201 298625.24385837 201530.66089631\n",
      " 168566.25910413 102398.04581356 145885.72010225 152941.19005124\n",
      " 118054.68287119 126934.65286461 355943.18326013 111931.87410651\n",
      " 224269.7502102   85875.69675788 262578.92593348 361698.24612869\n",
      " 132095.46230246 219590.23401548 118430.51642758 274265.95477474\n",
      " 160322.42316246 252223.43497465 166635.94833444 147343.92089432\n",
      " 149584.57716957 211107.06744409 178680.91139073 217755.05235619\n",
      " 183406.66329732 103134.28206984  79870.53884567 351965.57844264\n",
      " 172126.70404397 146721.4428688  102803.63945788 168710.24082581\n",
      " 231567.52258416 274028.66367915 137699.8805609  255032.43867803\n",
      " 180522.60376065  53707.9076794  154440.98773258  87164.80172414\n",
      " 129170.61999989 182332.91634292 145636.48702958 150361.4734231\n",
      " 274644.47695806 147906.98968975 217829.54262408 149991.27328905\n",
      " 100167.79313097 136681.85549527 191262.20682186 376372.42809794\n",
      " 181583.99746867 658752.17118096 117333.18051233 192311.9060806\n",
      " 144209.63154771 185382.79117992 179978.90980521 127874.50698566\n",
      " 107995.87919882 129236.64056059 241588.91211462 119795.15171884\n",
      " 230078.63133188 273836.67421473 155013.78195695 142934.63126271\n",
      " 238016.42226612 140151.98466193 173724.89094799 130771.75108932\n",
      " 186189.47128579 152505.51539109 355768.72225824 232158.77593225\n",
      " 145854.56607129 110349.60446767 112115.92245677 120858.70494355\n",
      " 193040.55617043 173970.37470283 147479.48942781 109803.37203808\n",
      " 107529.64782658 192921.93486794 264885.03543067 219221.96992755]\n"
     ]
    },
    {
     "name": "stdout",
     "output_type": "stream",
     "text": [
      "0.04120215468220242 0.03862706157939951 [114879.35756636 187092.95576816  77961.84204156  78844.39245223\n",
      " 136085.49344176 145978.39886804 147506.3946986  300079.3772236\n",
      " 131270.08169926  83550.17578064 217482.37592724 261211.10257719\n",
      " 273197.03741585 258889.66559275  98181.5598281  166061.3542704\n",
      "  93204.96452114 132059.81386463 169600.88099994 142968.34832365\n",
      " 245337.45083747 357584.07772876 148514.83658219 200061.1408316\n",
      " 157779.40577727  84109.58449335 146418.18325505 152042.36504756\n",
      " 247351.53626266 105620.81826077 185438.45064349 154178.10201639\n",
      " 139598.00564289 192392.17417042 121799.40541491 126606.3369849\n",
      " 115966.79903643 237012.34085551 130913.01254714  73318.06054473\n",
      " 160047.85129594 186197.74140917  63941.95862654 103614.14205376\n",
      " 133668.43773477 179873.26797404 184386.39715239 175016.62251158\n",
      " 183995.19283845 136276.25903783 123034.17837195 165521.67409158\n",
      "  94315.73982086 161058.34920892 533013.52108113 271794.76167821\n",
      " 126619.5616487  160832.66260641 134927.83017845 200224.89357775\n",
      " 182268.809658   296611.85516754 105238.184418   233506.45960775\n",
      " 154079.51913285 154546.43833605 222929.74535419 214901.1885038\n",
      " 128066.7119008  124446.47050404 202625.39655975 141460.293993\n",
      " 205712.37973717 164635.18736173 109067.46858801  86595.47942483\n",
      " 317611.32735479 102709.65541792  92801.22957878 125442.34799449\n",
      " 121218.69348889 185316.88375839 176907.51610586 202761.20952365\n",
      " 273200.77322772 113430.80543285 293116.54568512 192243.34722767\n",
      " 190509.78214722 104577.03704647 193271.81457928 377725.94596284\n",
      " 168843.22673873 185182.4863186   74168.99050438 102721.71464747\n",
      "  69786.11828477 201328.71988595 214875.49946843 183760.42899159\n",
      " 274103.83218367 128255.7231256  226484.68824105 206928.83973453\n",
      " 290114.68631807 191735.16967657 121080.55783831 221111.03858783\n",
      " 299365.07095584 114990.97610458 281806.19285216 198809.15610596\n",
      " 142550.59578397 242525.50911153  95799.02237781 117568.70072362\n",
      " 145764.41585215 114415.5332583  114265.20670921 165357.26131012\n",
      " 149423.7022208  135808.01315675 145162.57300022 153250.31033408\n",
      " 141172.39071968 240778.64304049 195723.76232373 199167.7890006\n",
      " 112981.29546862 132963.85030957 190556.3279424  204290.56828368\n",
      " 113854.53409345 140934.92964525 130401.21946858 191900.11640524\n",
      " 177292.64208433 153714.69143754 264377.54795144 183560.82742828\n",
      " 128240.09495686 170309.01978902  68787.44197439 181831.44682706\n",
      " 149280.22379483 102648.91644253 229449.83666916 222347.39572846\n",
      " 111580.26620162  88140.24654369 172390.79571588 146742.23517306\n",
      " 228778.32759934 150744.77249457 215052.28247114 233332.04491794\n",
      " 221789.41339235 194394.77565647 229418.97524702 137446.75949604\n",
      " 150713.48977323 232472.58370701 229137.30178314 183167.49284959\n",
      " 121781.02150378 285157.04445777 223601.24265777 143990.72553891\n",
      " 174978.3014995  257602.93979428 179431.77926604 180591.45334987\n",
      " 267566.12032527 124336.89997023 213385.72617235 342779.45767969\n",
      " 169540.68499121 104605.25115769 165233.84313512 157053.47280389\n",
      " 137237.48283706 106268.7033658  115175.82167973 137285.3293826\n",
      " 117066.64931115 204981.12801374 388704.90594483 192437.26847558\n",
      " 117284.94886544 177699.81338946 117426.52982366 376373.99441937\n",
      " 203496.47171851 130369.40017427 262965.58674172 178410.38588985\n",
      " 150311.68024625 267323.2356987  185865.67932455 100843.76359274\n",
      " 186591.61632825 142265.71479877 300694.78304355 200253.88060524\n",
      " 167701.23347554 100194.99146837 145152.61833698 154897.19473016\n",
      " 115240.36801724 126319.59713499 342417.49851222 112723.84226392\n",
      " 222082.39912938  86512.08945553 261236.16577351 356892.88028511\n",
      " 133924.59534942 218273.56493584 115613.12840485 266979.52410911\n",
      " 160591.74855515 249410.67748369 168396.53585704 149566.79323935\n",
      " 143916.24875774 212806.07449367 175320.04945007 222195.33457063\n",
      " 183109.13185651  98510.0801224   85762.85465119 347188.00395895\n",
      " 167170.66786737 147919.16631435 100495.49399369 163629.1321052\n",
      " 238387.88212064 275911.7204485  134445.01586674 265804.78921895\n",
      " 175919.26176129  59812.05870725 154338.17607598  88618.19925638\n",
      " 128887.90994496 183642.23544287 148801.52711221 147801.72436823\n",
      " 278698.41408878 144554.85400112 220906.35016915 150873.22192987\n",
      " 104260.54581886 140422.55142552 194343.57434288 380440.37708839\n",
      " 177796.60182342 693381.63678931 116078.92021635 193343.0527101\n",
      " 141460.61771123 183904.52714019 175492.43970605 127723.50049753\n",
      " 110013.73481054 129957.81953789 235496.62540658 118388.12415104\n",
      " 228726.39526574 270322.74626312 157670.67485462 141365.38082053\n",
      " 238628.65307939 139535.16058615 170358.15372563 131302.31156178\n",
      " 183346.44334738 150184.29333344 358586.32319217 234384.50472932\n",
      " 145605.32805117 110979.18081427 108227.99496004 120830.81537968\n",
      " 193016.25022524 170594.74411481 149462.15497068 109340.28335275\n",
      " 109820.09532036 196391.00728731 261721.99850941 220736.19420952]\n",
      "0.040000184396193336 0.03822793381142102 [114802.08045345 191881.5743952   80309.07423009  83927.18836503\n",
      " 134552.3157116  149269.89650726 145773.95580145 294532.49048044\n",
      " 129420.95992826  84627.37833847 219417.33279988 261519.55788048\n",
      " 278564.26462901 261867.91207035 100795.61642745 166228.89073761\n",
      "  94008.23230865 133139.46572953 164713.85038124 143935.51539841\n",
      " 249172.20962088 349386.30426287 150771.48562621 203520.54942294\n",
      " 162076.1133072   84710.79002724 150615.49724185 150595.79843196\n",
      " 253337.73909313 104965.27859051 185624.41036698 152854.90886553\n",
      " 138889.68098858 197163.04230692 118799.91763075 119355.6475255\n",
      " 112627.57485986 231039.99657217 131526.36837676  71755.69637061\n",
      " 158124.41372505 185503.25996762  65334.88433023 101650.19882675\n",
      " 135194.38150816 178390.78390766 187102.78635994 177139.16562667\n",
      " 177225.28185197 139945.6326033  123823.14578365 162784.44850226\n",
      "  92145.37888175 161547.66543492 510118.68816905 260647.58938048\n",
      " 124015.8938608  159241.57282307 133503.00375947 195696.46643583\n",
      " 164646.1876776  294605.75157247 103139.26738181 235994.67377587\n",
      " 156832.6907437  160118.49340799 227107.34595297 215117.3747855\n",
      " 126499.42956923 122518.13922104 203150.98141436 143239.05304269\n",
      " 203266.37915089 168255.16207511 107991.17640572  88388.952799\n",
      " 320314.5723089  104685.23305379  91713.32848277 125277.06969486\n",
      " 122688.296227   188031.21111412 180510.70183718 202044.09357427\n",
      " 269267.75936953 118965.80104621 280175.84876694 191026.6679602\n",
      " 192552.65411762 111410.2617768  196066.59935749 380510.44695734\n",
      " 166694.81559771 181702.97217838  85173.42979665 101390.7841546\n",
      "  65051.05561229 202531.88108721 219201.20764828 183679.76144701\n",
      " 273070.46338781 127604.46623858 236005.53462657 206799.4014835\n",
      " 289528.36893418 189167.30673935 123321.27126483 221741.87921631\n",
      " 303669.535415   114045.00103795 280426.06795036 196562.4586924\n",
      " 139988.8991002  234516.99826456  92461.72393737 116499.73132165\n",
      " 143961.86684093 115110.37273145 114815.90470589 167438.05062148\n",
      " 145504.65535553 134927.94340044 143626.29607399 153888.24032384\n",
      " 137208.74051731 246577.97350451 198676.17681486 197783.76161401\n",
      " 110813.80564905 132077.48781276 188674.14043087 209755.54095258\n",
      " 107137.93243597 141775.73794494 130036.77068469 192739.01720891\n",
      " 176958.65109264 158072.02785533 271130.95447737 185446.08320527\n",
      " 126933.19446504 166314.70771294  64076.46456346 186535.63843808\n",
      " 148711.00243898  97877.55671921 235492.14192988 222208.17703525\n",
      " 112957.8518836   87406.45378378 174344.20234087 145404.1976185\n",
      " 227779.10127592 152579.13596589 218634.08006989 231312.05119887\n",
      " 216649.57414257 194393.62324151 237654.63450354 136674.03858577\n",
      " 151968.06686852 247398.24556144 227231.0197933  182240.49738838\n",
      " 120641.97742465 274614.54994145 223933.86808131 150373.21810979\n",
      " 175079.46558931 259785.96698873 181716.63140945 179601.58034444\n",
      " 267731.85150339 124171.57703307 218097.38083437 338310.28511634\n",
      " 168635.93122708  95849.1294048  167372.6240912  157193.43692317\n",
      " 137682.57709981 107302.65350113 116360.18102116 137803.41177793\n",
      " 115707.05805467 204504.63575737 331195.55040738 191343.95357287\n",
      " 111266.49425653 181545.85257231 121348.51345699 382184.73068795\n",
      " 200726.60054677 130313.43070681 264763.69999006 178516.84755603\n",
      " 151557.64979822 266492.60709841 189934.23492367 102197.65110726\n",
      " 189109.69864994 147308.14050947 297745.11253385 204545.86680866\n",
      " 169400.64122181 100371.4372114  145708.2349819  153799.48139907\n",
      " 115355.49677477 122479.65951014 346546.83696158 114494.20069021\n",
      " 223264.52473658  88098.4493066  259349.6789321  364263.74259452\n",
      " 135361.40042028 215834.54022078 114645.61424686 272325.00068073\n",
      " 158865.94597607 259108.70244088 166949.94588496 143669.18986496\n",
      " 143787.13081028 209059.22689807 177615.60369207 221726.79926468\n",
      " 183986.68210027 104512.7375032   83013.2214694  343699.92956065\n",
      " 166926.48168054 147247.93743002 103318.33715273 167373.06822319\n",
      " 232327.44671618 278390.96919783 133748.94925715 253986.49995382\n",
      " 177672.53343723  48205.87570253 152448.07968802  82088.86483977\n",
      " 128848.85223091 178149.55354189 151932.99020053 148722.67371634\n",
      " 283616.24710308 147140.19186307 215700.22421583 143996.90813835\n",
      "  99108.14206998 140599.20879887 192892.36476577 379425.70470152\n",
      " 181205.0515504  718738.55761151 117247.84587373 190828.24660756\n",
      " 144837.60797871 185899.47064185 173657.09828515 123195.81451164\n",
      " 110436.6218778  128925.97856542 241425.09795978 119654.9517152\n",
      " 228418.48183777 269724.70216425 157688.44283717 142118.84960274\n",
      " 236812.97676848 139710.43977768 172241.95859271 131837.5265627\n",
      " 174176.61269699 152033.31650442 362437.30437103 232199.15737261\n",
      " 142585.35103385 110766.67548028 109136.71418949 119909.27490782\n",
      " 194686.41108395 174111.4428547  149016.61264303 110932.93993727\n",
      " 106433.63146786 196612.44648935 266523.30046165 224677.29822724]\n"
     ]
    }
   ],
   "source": [
    "from sklearn.ensemble import RandomForestRegressor\n",
    "from sklearn.linear_model import LinearRegression\n",
    "X_train = X\n",
    "y_train = y\n",
    "for i in range(10):\n",
    "    linear = LinearRegression()\n",
    "    linear.fit(X_train[:,:6], y_train)\n",
    "    residual = y_train - linear.predict(X_train[:,:6])\n",
    "    #plot(y_train, linear.predict(X_train[:,:4]))\n",
    "    rf = RandomForestRegressor(criterion = \"mse\", n_estimators = 45)\n",
    "    #rf = MLPRegressor(hidden_layer_sizes = (10,10,10,10), max_iter = 20000, learning_rate = 'adaptive', n_iter_no_change = 500, verbose = True)\n",
    "    rf.fit(X_train,residual)\n",
    "    y_test_pred = rf.predict(X_test) + linear.predict(X_test[:,:6])\n",
    "    y_train_pred = rf.predict(X_train) + linear.predict(X_train[:,:6])\n",
    "    #plot(y_train, y_train_pred)\n",
    "    #plot(y_test, y_test_pred)\n",
    "    mape = np.mean(np.abs(y_test_pred - y_test)/y_test)\n",
    "    mape_train = np.mean(np.abs(y_train_pred - y_train)/y_train)\n",
    "    print(mape, mape_train, y_test_pred)"
   ]
  },
  {
   "cell_type": "code",
   "execution_count": 237,
   "metadata": {},
   "outputs": [
    {
     "name": "stdout",
     "output_type": "stream",
     "text": [
      "0.10891090490348405 0.04088918981661553\n"
     ]
    }
   ],
   "source": [
    "from sklearn.model_selection import train_test_split\n",
    "from sklearn.ensemble import RandomForestRegressor\n",
    "regr = RandomForestRegressor(criterion = \"mse\", n_estimators = 45)\n",
    "regr.fit(X, y)\n",
    "y_pred = regr.predict(X_test)\n",
    "y_train_pred = regr.predict(X)\n",
    "mape = np.mean(np.abs(y_pred - y_test)/y_test)\n",
    "mape_train = np.mean(np.abs(y - y_train_pred)/y)\n",
    "print(mape, mape_train)\n",
    "#for i, y in enumerate(y_pred):\n",
    "#    print( y, y_test[i])"
   ]
  },
  {
   "cell_type": "code",
   "execution_count": null,
   "metadata": {},
   "outputs": [],
   "source": []
  },
  {
   "cell_type": "code",
   "execution_count": null,
   "metadata": {},
   "outputs": [],
   "source": []
  }
 ],
 "metadata": {
  "kernelspec": {
   "display_name": "Python 3",
   "language": "python",
   "name": "python3"
  },
  "language_info": {
   "codemirror_mode": {
    "name": "ipython",
    "version": 3
   },
   "file_extension": ".py",
   "mimetype": "text/x-python",
   "name": "python",
   "nbconvert_exporter": "python",
   "pygments_lexer": "ipython3",
   "version": "3.7.3"
  }
 },
 "nbformat": 4,
 "nbformat_minor": 2
}
